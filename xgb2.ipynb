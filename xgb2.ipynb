{
 "metadata": {
  "language_info": {
   "codemirror_mode": {
    "name": "ipython",
    "version": 3
   },
   "file_extension": ".py",
   "mimetype": "text/x-python",
   "name": "python",
   "nbconvert_exporter": "python",
   "pygments_lexer": "ipython3",
   "version": "3.8.3"
  },
  "orig_nbformat": 2,
  "kernelspec": {
   "name": "python383jvsc74a57bd04679094c71e58fd5daa32654c6d4dcc218cb243910207196539a7dfc04a8a332",
   "display_name": "Python 3.8.3 64-bit ('base': conda)"
  }
 },
 "nbformat": 4,
 "nbformat_minor": 2,
 "cells": [
  {
   "cell_type": "code",
   "execution_count": 1,
   "metadata": {},
   "outputs": [],
   "source": [
    "import pandas as pd\n",
    "import numpy as np\n",
    "df=pd.read_csv(\"combined.csv\")\n",
    "\n",
    "def convertToFloat(x):\n",
    "    x=x.strip()\n",
    "    if x==\"-\" or x==\"NR\" or x=='' or x==\".\" or x==\"\" or x==' ':\n",
    "        return 0.01\n",
    "    else:\n",
    "        \n",
    "        return float(x)\n",
    "\n",
    "def convertToFloat2(x):\n",
    "    x=x.strip()\n",
    "    if x==\"-\" or x==\"NR\" or x=='' or x==\".\" or x==\"\" or x==' ':\n",
    "        return 0\n",
    "    else:\n",
    "        \n",
    "        return float(x)\n",
    "\n",
    "\n",
    "df[\"rain\"]=df[\"Rain\"].apply(convertToFloat2)\n",
    "import datetime\n",
    "df[\"month\"]=df[\"Date\"].apply(lambda x:datetime.datetime.strptime(x,\"%Y-%m-%d\").month)\n",
    "df[\"year\"]=df[\"Date\"].apply(lambda x: datetime.datetime.strptime(x,\"%Y-%m-%d\").year)\n",
    "df[\"day\"]=df[\"Date\"].apply(lambda x: datetime.datetime.strptime(x,\"%Y-%m-%d\").day)\n",
    "\n",
    "\n",
    "\n",
    "\n",
    "def SparseMeasure(x):\n",
    "    if x ==1 or x==3:\n",
    "        return 0\n",
    "    elif x==2 or x==4 or x==12:\n",
    "        return 1\n",
    "    elif x==5 or x==6:\n",
    "        return 2\n",
    "    elif x==7 or x==10:\n",
    "        return 3\n",
    "    else: \n",
    "        return 4\n",
    "\n",
    "def meandictfunc(row):\n",
    "    daymonth=str(row[\"day\"])+\"_\"+str(row[\"month\"])\n",
    "    meanval=meandict[daymonth]\n",
    "    return meanval\n",
    "\n",
    "def RainCompress(x):\n",
    "    if x>100:\n",
    "        return 5\n",
    "    if x>50:\n",
    "        return 4\n",
    "    if x>25:\n",
    "        return 3\n",
    "    if x>2:\n",
    "        return 2\n",
    "    elif x!=0:\n",
    "        return 1\n",
    " \n",
    "    else:\n",
    "        return 0\n",
    "def get_season(x):\n",
    "    if x>=1 or x<=4:\n",
    "        return 0\n",
    "    elif x>=5 or x<=9:\n",
    "        return 2\n",
    "    elif x>9 or x<12:\n",
    "        return 1\n",
    "    else:\n",
    "        return 0\n",
    "def isSparse(row):\n",
    "    daymonth=str(row[\"day\"])+\"_\"+str(row[\"month\"])\n",
    "    val=meandict[daymonth]\n",
    "    if val<1:\n",
    "        return 0\n",
    "    elif val>=1 or val<2.5:\n",
    "        return 4\n",
    "    elif val>=2.5 or val<4:\n",
    "        return 8\n",
    "    else:\n",
    "        return 12\n",
    "\n",
    "def lastseventh(row):\n",
    "    daymonth=str(row[\"day\"])+\"_\"+str(row[\"month\"])\n",
    "    val=MonDay[daymonth][-7]\n",
    "    if val==0:\n",
    "        return 0\n",
    "    else:\n",
    "        return np.log(val)\n",
    "    return val\n",
    "def lastsixth(row):\n",
    "    daymonth=str(row[\"day\"])+\"_\"+str(row[\"month\"])\n",
    "    val=MonDay[daymonth][-6]\n",
    "    if val==0:\n",
    "        return 0\n",
    "    else:\n",
    "        return np.log(val)\n",
    "    return val\n",
    "    \n",
    "def lastfifth(row):\n",
    "    daymonth=str(row[\"day\"])+\"_\"+str(row[\"month\"])\n",
    "    val=MonDay[daymonth][-5]\n",
    "    if val==0:\n",
    "        return 0\n",
    "    else:\n",
    "        return np.log(val)\n",
    "    return val\n",
    "\n",
    " \n",
    "def lastfourth(row):\n",
    "    daymonth=str(row[\"day\"])+\"_\"+str(row[\"month\"])\n",
    "    val=MonDay[daymonth][-4]\n",
    "    if val==0:\n",
    "        return 0\n",
    "    else:\n",
    "        return np.log(val)\n",
    "    return val\n",
    "\n",
    "def lastthrid(row):\n",
    "    daymonth=str(row[\"day\"])+\"_\"+str(row[\"month\"])\n",
    "    val=MonDay[daymonth][-3]\n",
    "    if val==0:\n",
    "        return 0\n",
    "    else:\n",
    "        return np.log(val)\n",
    "    return val\n",
    "\n",
    "def lastsecond(row):\n",
    "    daymonth=str(row[\"day\"])+\"_\"+str(row[\"month\"])\n",
    "    val=MonDay[daymonth][-2]\n",
    "    if val==0:\n",
    "        return 0\n",
    "    else:\n",
    "        return np.log(val)\n",
    "    return val\n",
    "\n",
    "def lastfirst(row):\n",
    "    daymonth=str(row[\"day\"])+\"_\"+str(row[\"month\"])\n",
    "    val=MonDay[daymonth][-1]\n",
    "    if val==0:\n",
    "        return 0\n",
    "    else:\n",
    "        return np.log(val)\n",
    "    return val\n",
    "def last(row,k):\n",
    "    daymonth=str(row[\"District\"])+\"_\"+str(row[\"day\"])+\"_\"+str(row[\"month\"])\n",
    "    if k<len(MonDay[daymonth]):\n",
    "        val=MonDay[daymonth][-k]\n",
    "    else:\n",
    "        val=0\n",
    "    final=RainCompress(val)\n",
    "    return final\n",
    "    \n"
   ]
  },
  {
   "cell_type": "code",
   "execution_count": 2,
   "metadata": {},
   "outputs": [],
   "source": [
    "df.to_csv(\"converted.csv\",index=False)"
   ]
  },
  {
   "cell_type": "code",
   "execution_count": 2,
   "metadata": {},
   "outputs": [],
   "source": [
    "yearlist=df.year.unique()\n",
    "MonDay={}\n",
    "for year in yearlist:\n",
    "    yeardf=df[df.year==year]\n",
    "    for frame,row in yeardf.iterrows():\n",
    "        monthday=str(row[\"District\"])+\"_\"+str(row[\"day\"])+\"_\"+str(row[\"month\"])\n",
    "        if monthday not in MonDay.keys():\n",
    "            MonDay[monthday]=[]\n",
    "        \n",
    "        MonDay[monthday].append(row[\"rain\"])\n",
    "\n",
    "meandict={}\n",
    "for key in MonDay.keys():\n",
    "    themean=np.mean(np.array(MonDay[key]))\n",
    "    if themean==0.0:\n",
    "        meandict[key]=themean\n",
    "    else:\n",
    "        meandict[key]=themean"
   ]
  },
  {
   "cell_type": "code",
   "execution_count": 32,
   "metadata": {},
   "outputs": [
    {
     "output_type": "execute_result",
     "data": {
      "text/plain": [
       "10"
      ]
     },
     "metadata": {},
     "execution_count": 32
    }
   ],
   "source": [
    "len(MonDay[\"Alangayam_1_6\"])"
   ]
  },
  {
   "cell_type": "code",
   "execution_count": 3,
   "metadata": {},
   "outputs": [],
   "source": [
    "df[\"is_rain\"]=df[\"month\"].apply(get_season)\n",
    "# df[\"sparse1\"]=df.apply(lastfirst,axis=1)\n",
    "# df[\"sparse2\"]=df.apply(lastsecond,axis=1)\n",
    "# df[\"sparse3\"]=df.apply(lastthrid,axis=1)\n",
    "# df[\"sparse4\"]=df.apply(lastfourth,axis=1)\n",
    "# df[\"sparse5\"]=df.apply(lastfifth,axis=1)\n",
    "# df[\"sparse6\"]=df.apply(lastsixth,axis=1)\n",
    "# df[\"sparse7\"]=df.apply(lastseventh,axis=1)\n",
    "for i in range(1,9):\n",
    "    sparse=\"previous\"+str(i)\n",
    "    df[sparse]=df.apply(last,k=i,axis=1)\n",
    "# df[\"sparse\"]=df.apply(isSparse,axis=1)"
   ]
  },
  {
   "cell_type": "code",
   "execution_count": 4,
   "metadata": {},
   "outputs": [
    {
     "output_type": "error",
     "ename": "NameError",
     "evalue": "name 'X_train' is not defined",
     "traceback": [
      "\u001b[1;31m---------------------------------------------------------------------------\u001b[0m",
      "\u001b[1;31mNameError\u001b[0m                                 Traceback (most recent call last)",
      "\u001b[1;32m<ipython-input-4-931765772341>\u001b[0m in \u001b[0;36m<module>\u001b[1;34m\u001b[0m\n\u001b[1;32m----> 1\u001b[1;33m \u001b[0mX_train\u001b[0m\u001b[1;33m\u001b[0m\u001b[1;33m\u001b[0m\u001b[0m\n\u001b[0m",
      "\u001b[1;31mNameError\u001b[0m: name 'X_train' is not defined"
     ]
    }
   ],
   "source": [
    "X_train"
   ]
  },
  {
   "cell_type": "code",
   "execution_count": 140,
   "metadata": {},
   "outputs": [],
   "source": [
    "df[\"new2\"]=df.apply(meandictfunc,axis=1)\n",
    "# df[\"rain\"]=df[\"rain\"].apply(lambda x: np.log(x))\n",
    "# df[\"year\"]=df[\"year\"].apply(lambda x: np.log(x))\n",
    "# df[\"new2\"].apply(lambda x: np.log(x))\n",
    "# df[\"new\"]=df[\"month\"].apply(SparseMeasure)\n"
   ]
  },
  {
   "cell_type": "code",
   "execution_count": 13,
   "metadata": {},
   "outputs": [],
   "source": [
    "dummydf=pd.get_dummies(df[[\"District\",\"rain\",\"month\",\"is_rain\",\"day\",\"year\",\"previous1\",\"previous2\",\"previous3\",\"previous4\",\"previous5\",\"previous6\",\"previous7\",\"previous8\"]])\n",
    "# dummydf=pd.get_dummies(df[[\"District\",\"rain\",\"month\",\"day\",\"year\"]])\n"
   ]
  },
  {
   "cell_type": "code",
   "execution_count": 14,
   "metadata": {},
   "outputs": [],
   "source": [
    "y=dummydf.pop(\"rain\")\n",
    "x=dummydf\n",
    "\n",
    "from sklearn.model_selection import train_test_split\n",
    "from sklearn.preprocessing import MinMaxScaler\n",
    "X_train, X_test, y_train, y_test = train_test_split(x , y, test_size=0.33, random_state=42)"
   ]
  },
  {
   "cell_type": "code",
   "execution_count": 15,
   "metadata": {
    "tags": []
   },
   "outputs": [
    {
     "output_type": "execute_result",
     "data": {
      "text/plain": [
       "XGBRegressor(base_score=0.5, booster='gbtree', colsample_bylevel=1,\n",
       "             colsample_bynode=1, colsample_bytree=1, eta=0.3, gamma=0,\n",
       "             gpu_id=-1, importance_type='gain', interaction_constraints='',\n",
       "             learning_rate=0.300000012, max_delta_step=0, max_depth=35,\n",
       "             min_child_weight=1, missing=nan, monotone_constraints='()',\n",
       "             n_estimators=3, n_jobs=12, num_parallel_tree=1, random_state=123,\n",
       "             reg_alpha=0, reg_lambda=1, scale_pos_weight=1, seed=123,\n",
       "             subsample=1, tree_method='exact', validate_parameters=1,\n",
       "             verbosity=None)"
      ]
     },
     "metadata": {},
     "execution_count": 15
    }
   ],
   "source": [
    "import xgboost as xg\n",
    "xgb_r = xg.XGBRegressor(objective ='reg:squarederror',    \n",
    "                  n_estimators =3, seed = 123,max_depth=35,eta=0.3)\n",
    "   \n",
    "# Fitting the model\n",
    "import time\n",
    "xgb_r.fit(X_train, y_train)\n"
   ]
  },
  {
   "cell_type": "code",
   "execution_count": 16,
   "metadata": {},
   "outputs": [
    {
     "output_type": "execute_result",
     "data": {
      "text/plain": [
       "       month  is_rain  day  year  previous1  previous2  previous3  previous4  \\\n",
       "35844      3        0   29  2018          0          0          0          0   \n",
       "18346      4        0    1  2014          0          0          0          0   \n",
       "8140      12        0    3  2011          2          0          2          3   \n",
       "43290      7        0   18  2019          0          0          0          1   \n",
       "40376      2        0    6  2019          0          0          0          0   \n",
       "...      ...      ...  ...   ...        ...        ...        ...        ...   \n",
       "1274       4        0   26  2010          0          0          0          0   \n",
       "13166      1        0   25  2013          0          0          0          0   \n",
       "45618     11        0   24  2019          0          2          0          0   \n",
       "44814     10        0   10  2019          0          0          0          0   \n",
       "12538     12        0    3  2012          2          0          0          1   \n",
       "\n",
       "       previous5  previous6  ...  District_Melalathur  District_Natrampalli  \\\n",
       "35844          0          0  ...                    0                     0   \n",
       "18346          0          0  ...                    0                     0   \n",
       "8140           2          2  ...                    0                     0   \n",
       "43290          0          2  ...                    0                     0   \n",
       "40376          0          0  ...                    1                     0   \n",
       "...          ...        ...  ...                  ...                   ...   \n",
       "1274           2          0  ...                    0                     0   \n",
       "13166          0          0  ...                    0                     0   \n",
       "45618          2          0  ...                    0                     0   \n",
       "44814          0          0  ...                    0                     0   \n",
       "12538          0          2  ...                    0                     0   \n",
       "\n",
       "       District_Ponnai  District_Sholingur  District_TCS Mill  \\\n",
       "35844                0                   0                  0   \n",
       "18346                0                   0                  0   \n",
       "8140                 0                   0                  0   \n",
       "43290                0                   0                  0   \n",
       "40376                0                   0                  0   \n",
       "...                ...                 ...                ...   \n",
       "1274                 0                   0                  0   \n",
       "13166                0                   0                  0   \n",
       "45618                0                   0                  0   \n",
       "44814                0                   0                  0   \n",
       "12538                0                   0                  0   \n",
       "\n",
       "       District_Tirupattur  District_VCS Mill  District_Vaniyambadi  \\\n",
       "35844                    0                  0                     0   \n",
       "18346                    1                  0                     0   \n",
       "8140                     0                  0                     0   \n",
       "43290                    0                  0                     0   \n",
       "40376                    0                  0                     0   \n",
       "...                    ...                ...                   ...   \n",
       "1274                     0                  0                     0   \n",
       "13166                    0                  0                     0   \n",
       "45618                    0                  0                     0   \n",
       "44814                    0                  1                     0   \n",
       "12538                    1                  0                     0   \n",
       "\n",
       "       District_Vellore  District_Wallajah  \n",
       "35844                 1                  0  \n",
       "18346                 0                  0  \n",
       "8140                  0                  0  \n",
       "43290                 0                  0  \n",
       "40376                 0                  0  \n",
       "...                 ...                ...  \n",
       "1274                  1                  0  \n",
       "13166                 0                  0  \n",
       "45618                 1                  0  \n",
       "44814                 0                  0  \n",
       "12538                 0                  0  \n",
       "\n",
       "[15277 rows x 30 columns]"
      ],
      "text/html": "<div>\n<style scoped>\n    .dataframe tbody tr th:only-of-type {\n        vertical-align: middle;\n    }\n\n    .dataframe tbody tr th {\n        vertical-align: top;\n    }\n\n    .dataframe thead th {\n        text-align: right;\n    }\n</style>\n<table border=\"1\" class=\"dataframe\">\n  <thead>\n    <tr style=\"text-align: right;\">\n      <th></th>\n      <th>month</th>\n      <th>is_rain</th>\n      <th>day</th>\n      <th>year</th>\n      <th>previous1</th>\n      <th>previous2</th>\n      <th>previous3</th>\n      <th>previous4</th>\n      <th>previous5</th>\n      <th>previous6</th>\n      <th>...</th>\n      <th>District_Melalathur</th>\n      <th>District_Natrampalli</th>\n      <th>District_Ponnai</th>\n      <th>District_Sholingur</th>\n      <th>District_TCS Mill</th>\n      <th>District_Tirupattur</th>\n      <th>District_VCS Mill</th>\n      <th>District_Vaniyambadi</th>\n      <th>District_Vellore</th>\n      <th>District_Wallajah</th>\n    </tr>\n  </thead>\n  <tbody>\n    <tr>\n      <th>35844</th>\n      <td>3</td>\n      <td>0</td>\n      <td>29</td>\n      <td>2018</td>\n      <td>0</td>\n      <td>0</td>\n      <td>0</td>\n      <td>0</td>\n      <td>0</td>\n      <td>0</td>\n      <td>...</td>\n      <td>0</td>\n      <td>0</td>\n      <td>0</td>\n      <td>0</td>\n      <td>0</td>\n      <td>0</td>\n      <td>0</td>\n      <td>0</td>\n      <td>1</td>\n      <td>0</td>\n    </tr>\n    <tr>\n      <th>18346</th>\n      <td>4</td>\n      <td>0</td>\n      <td>1</td>\n      <td>2014</td>\n      <td>0</td>\n      <td>0</td>\n      <td>0</td>\n      <td>0</td>\n      <td>0</td>\n      <td>0</td>\n      <td>...</td>\n      <td>0</td>\n      <td>0</td>\n      <td>0</td>\n      <td>0</td>\n      <td>0</td>\n      <td>1</td>\n      <td>0</td>\n      <td>0</td>\n      <td>0</td>\n      <td>0</td>\n    </tr>\n    <tr>\n      <th>8140</th>\n      <td>12</td>\n      <td>0</td>\n      <td>3</td>\n      <td>2011</td>\n      <td>2</td>\n      <td>0</td>\n      <td>2</td>\n      <td>3</td>\n      <td>2</td>\n      <td>2</td>\n      <td>...</td>\n      <td>0</td>\n      <td>0</td>\n      <td>0</td>\n      <td>0</td>\n      <td>0</td>\n      <td>0</td>\n      <td>0</td>\n      <td>0</td>\n      <td>0</td>\n      <td>0</td>\n    </tr>\n    <tr>\n      <th>43290</th>\n      <td>7</td>\n      <td>0</td>\n      <td>18</td>\n      <td>2019</td>\n      <td>0</td>\n      <td>0</td>\n      <td>0</td>\n      <td>1</td>\n      <td>0</td>\n      <td>2</td>\n      <td>...</td>\n      <td>0</td>\n      <td>0</td>\n      <td>0</td>\n      <td>0</td>\n      <td>0</td>\n      <td>0</td>\n      <td>0</td>\n      <td>0</td>\n      <td>0</td>\n      <td>0</td>\n    </tr>\n    <tr>\n      <th>40376</th>\n      <td>2</td>\n      <td>0</td>\n      <td>6</td>\n      <td>2019</td>\n      <td>0</td>\n      <td>0</td>\n      <td>0</td>\n      <td>0</td>\n      <td>0</td>\n      <td>0</td>\n      <td>...</td>\n      <td>1</td>\n      <td>0</td>\n      <td>0</td>\n      <td>0</td>\n      <td>0</td>\n      <td>0</td>\n      <td>0</td>\n      <td>0</td>\n      <td>0</td>\n      <td>0</td>\n    </tr>\n    <tr>\n      <th>...</th>\n      <td>...</td>\n      <td>...</td>\n      <td>...</td>\n      <td>...</td>\n      <td>...</td>\n      <td>...</td>\n      <td>...</td>\n      <td>...</td>\n      <td>...</td>\n      <td>...</td>\n      <td>...</td>\n      <td>...</td>\n      <td>...</td>\n      <td>...</td>\n      <td>...</td>\n      <td>...</td>\n      <td>...</td>\n      <td>...</td>\n      <td>...</td>\n      <td>...</td>\n      <td>...</td>\n    </tr>\n    <tr>\n      <th>1274</th>\n      <td>4</td>\n      <td>0</td>\n      <td>26</td>\n      <td>2010</td>\n      <td>0</td>\n      <td>0</td>\n      <td>0</td>\n      <td>0</td>\n      <td>2</td>\n      <td>0</td>\n      <td>...</td>\n      <td>0</td>\n      <td>0</td>\n      <td>0</td>\n      <td>0</td>\n      <td>0</td>\n      <td>0</td>\n      <td>0</td>\n      <td>0</td>\n      <td>1</td>\n      <td>0</td>\n    </tr>\n    <tr>\n      <th>13166</th>\n      <td>1</td>\n      <td>0</td>\n      <td>25</td>\n      <td>2013</td>\n      <td>0</td>\n      <td>0</td>\n      <td>0</td>\n      <td>0</td>\n      <td>0</td>\n      <td>0</td>\n      <td>...</td>\n      <td>0</td>\n      <td>0</td>\n      <td>0</td>\n      <td>0</td>\n      <td>0</td>\n      <td>0</td>\n      <td>0</td>\n      <td>0</td>\n      <td>0</td>\n      <td>0</td>\n    </tr>\n    <tr>\n      <th>45618</th>\n      <td>11</td>\n      <td>0</td>\n      <td>24</td>\n      <td>2019</td>\n      <td>0</td>\n      <td>2</td>\n      <td>0</td>\n      <td>0</td>\n      <td>2</td>\n      <td>0</td>\n      <td>...</td>\n      <td>0</td>\n      <td>0</td>\n      <td>0</td>\n      <td>0</td>\n      <td>0</td>\n      <td>0</td>\n      <td>0</td>\n      <td>0</td>\n      <td>1</td>\n      <td>0</td>\n    </tr>\n    <tr>\n      <th>44814</th>\n      <td>10</td>\n      <td>0</td>\n      <td>10</td>\n      <td>2019</td>\n      <td>0</td>\n      <td>0</td>\n      <td>0</td>\n      <td>0</td>\n      <td>0</td>\n      <td>0</td>\n      <td>...</td>\n      <td>0</td>\n      <td>0</td>\n      <td>0</td>\n      <td>0</td>\n      <td>0</td>\n      <td>0</td>\n      <td>1</td>\n      <td>0</td>\n      <td>0</td>\n      <td>0</td>\n    </tr>\n    <tr>\n      <th>12538</th>\n      <td>12</td>\n      <td>0</td>\n      <td>3</td>\n      <td>2012</td>\n      <td>2</td>\n      <td>0</td>\n      <td>0</td>\n      <td>1</td>\n      <td>0</td>\n      <td>2</td>\n      <td>...</td>\n      <td>0</td>\n      <td>0</td>\n      <td>0</td>\n      <td>0</td>\n      <td>0</td>\n      <td>1</td>\n      <td>0</td>\n      <td>0</td>\n      <td>0</td>\n      <td>0</td>\n    </tr>\n  </tbody>\n</table>\n<p>15277 rows × 30 columns</p>\n</div>"
     },
     "metadata": {},
     "execution_count": 16
    }
   ],
   "source": [
    "X_test"
   ]
  },
  {
   "cell_type": "code",
   "execution_count": 17,
   "metadata": {},
   "outputs": [
    {
     "output_type": "stream",
     "name": "stdout",
     "text": [
      "4.099899875285234\n",
      "5.725427581558085\n",
      "1.5726110230848696\n",
      "C:\\Users\\om purohit\\anaconda3\\lib\\site-packages\\xgboost\\data.py:112: UserWarning: Use subset (sliced data) of np.ndarray is not recommended because it will generate extra copies and increase memory consumption\n",
      "  warnings.warn(\n"
     ]
    }
   ],
   "source": [
    "from sklearn.metrics import mean_absolute_error\n",
    "pred=xgb_r.predict(X_test)\n",
    "predtrain=xgb_r.predict(X_train)\n",
    "for i in range(len(pred)):\n",
    "    if pred[i]<=1:\n",
    "        pred[i]=0\n",
    "for i in range(len(predtrain)):\n",
    "    if predtrain[i]<=1:\n",
    "        predtrain[i]=0\n",
    "from sklearn.metrics import mean_squared_error\n",
    "print(np.sqrt(mean_squared_error(y_train,predtrain)))\n",
    "print(np.sqrt(mean_squared_error(y_test,pred) ))\n",
    "print(mean_absolute_error(y_test,pred))\n"
   ]
  },
  {
   "cell_type": "code",
   "execution_count": 8,
   "metadata": {},
   "outputs": [
    {
     "output_type": "execute_result",
     "data": {
      "text/plain": [
       "array([[1.       , 0.7983907],\n",
       "       [0.7983907, 1.       ]])"
      ]
     },
     "metadata": {},
     "execution_count": 8
    }
   ],
   "source": [
    "np.corrcoef(y_test,pred)"
   ]
  },
  {
   "cell_type": "code",
   "execution_count": 31,
   "metadata": {},
   "outputs": [
    {
     "output_type": "execute_result",
     "data": {
      "text/plain": [
       "0.6429144234554618"
      ]
     },
     "metadata": {},
     "execution_count": 31
    }
   ],
   "source": [
    "RAE(y_test,pred)"
   ]
  },
  {
   "cell_type": "code",
   "execution_count": 49,
   "metadata": {},
   "outputs": [
    {
     "output_type": "execute_result",
     "data": {
      "text/plain": [
       "0.6684320725795425"
      ]
     },
     "metadata": {},
     "execution_count": 49
    }
   ],
   "source": [
    "RRSE(y_test,pred)"
   ]
  },
  {
   "cell_type": "code",
   "execution_count": 9,
   "metadata": {},
   "outputs": [],
   "source": [
    "firstdf=df[df.year==2019]\n",
    "seconddf=x[x.year==2019]"
   ]
  },
  {
   "cell_type": "code",
   "execution_count": 10,
   "metadata": {},
   "outputs": [],
   "source": [
    "firstdf=firstdf[firstdf.month==8]\n",
    "seconddf=seconddf[seconddf.month==8]"
   ]
  },
  {
   "cell_type": "code",
   "execution_count": 11,
   "metadata": {},
   "outputs": [],
   "source": [
    "firstdf=firstdf[firstdf.District==\"Alangayam\"]\n",
    "seconddf=seconddf[seconddf.District_Alangayam==1]"
   ]
  },
  {
   "cell_type": "code",
   "execution_count": 10,
   "metadata": {},
   "outputs": [
    {
     "output_type": "execute_result",
     "data": {
      "text/plain": [
       "(31, 29)"
      ]
     },
     "metadata": {},
     "execution_count": 10
    }
   ],
   "source": [
    "seconddf.shape"
   ]
  },
  {
   "cell_type": "code",
   "execution_count": 65,
   "metadata": {},
   "outputs": [
    {
     "output_type": "execute_result",
     "data": {
      "text/plain": [
       "            Date   District Rain  rain  month  year  day  is_rain  previous1  \\\n",
       "2332  2010-08-01  Alangayam    -   0.0      8  2010    1        0          0   \n",
       "2343  2010-08-02  Alangayam    -   0.0      8  2010    2        0          0   \n",
       "2354  2010-08-03  Alangayam    -   0.0      8  2010    3        0          0   \n",
       "2365  2010-08-04  Alangayam    -   0.0      8  2010    4        0          0   \n",
       "2376  2010-08-05  Alangayam    -   0.0      8  2010    5        0          0   \n",
       "2387  2010-08-06  Alangayam    -   0.0      8  2010    6        0          0   \n",
       "2398  2010-08-07  Alangayam    -   0.0      8  2010    7        0          0   \n",
       "2409  2010-08-08  Alangayam    -   0.0      8  2010    8        0          0   \n",
       "2420  2010-08-09  Alangayam    -   0.0      8  2010    9        0          0   \n",
       "2431  2010-08-10  Alangayam    -   0.0      8  2010   10        0          0   \n",
       "2442  2010-08-11  Alangayam    -   0.0      8  2010   11        0          0   \n",
       "2453  2010-08-12  Alangayam    -   0.0      8  2010   12        0          0   \n",
       "2464  2010-08-13  Alangayam    -   0.0      8  2010   13        0          0   \n",
       "2475  2010-08-14  Alangayam  0.8   0.8      8  2010   14        0          0   \n",
       "2486  2010-08-15  Alangayam    -   0.0      8  2010   15        0          0   \n",
       "2497  2010-08-16  Alangayam    -   0.0      8  2010   16        0          0   \n",
       "2508  2010-08-17  Alangayam    -   0.0      8  2010   17        0          4   \n",
       "2519  2010-08-18  Alangayam    -   0.0      8  2010   18        0          5   \n",
       "2530  2010-08-19  Alangayam    -   0.0      8  2010   19        0          3   \n",
       "2541  2010-08-20  Alangayam    -   0.0      8  2010   20        0          2   \n",
       "2552  2010-08-21  Alangayam    -   0.0      8  2010   21        0          0   \n",
       "2563  2010-08-22  Alangayam   15  15.0      8  2010   22        0          2   \n",
       "2574  2010-08-23  Alangayam   10  10.0      8  2010   23        0          2   \n",
       "2585  2010-08-24  Alangayam    -   0.0      8  2010   24        0          0   \n",
       "2596  2010-08-25  Alangayam   21  21.0      8  2010   25        0          0   \n",
       "2607  2010-08-26  Alangayam    3   3.0      8  2010   26        0          2   \n",
       "2618  2010-08-27  Alangayam    3   3.0      8  2010   27        0          0   \n",
       "2629  2010-08-28  Alangayam    -   0.0      8  2010   28        0          0   \n",
       "2640  2010-08-29  Alangayam    -   0.0      8  2010   29        0          0   \n",
       "2651  2010-08-30  Alangayam    -   0.0      8  2010   30        0          0   \n",
       "2662  2010-08-31  Alangayam    -   0.0      8  2010   31        0          0   \n",
       "\n",
       "      previous2  previous3  previous4  previous5  previous6  previous7  \\\n",
       "2332          0          4          0          2          0          0   \n",
       "2343          2          3          0          0          2          0   \n",
       "2354          0          0          0          3          2          0   \n",
       "2365          0          0          0          0          2          2   \n",
       "2376          0          0          0          2          0          2   \n",
       "2387          0          2          0          2          2          0   \n",
       "2398          0          0          0          2          2          0   \n",
       "2409          0          2          0          2          2          2   \n",
       "2420          0          2          0          2          2          0   \n",
       "2431          0          2          0          2          2          0   \n",
       "2442          0          2          0          1          2          0   \n",
       "2453          0          2          0          2          1          0   \n",
       "2464          0          2          0          0          2          0   \n",
       "2475          0          3          0          2          0          0   \n",
       "2486          2          2          0          1          2          0   \n",
       "2497          1          2          2          2          2          0   \n",
       "2508          0          1          0          0          2          0   \n",
       "2519          0          0          0          2          0          0   \n",
       "2530          0          2          0          2          2          0   \n",
       "2541          0          0          0          0          2          0   \n",
       "2552          0          0          0          2          0          0   \n",
       "2563          0          0          0          2          2          0   \n",
       "2574          0          0          0          2          2          0   \n",
       "2585          0          3          0          0          2          0   \n",
       "2596          0          2          0          2          0          0   \n",
       "2607          0          0          0          0          2          0   \n",
       "2618          0          0          0          0          2          0   \n",
       "2629          2          0          2          2          0          0   \n",
       "2640          0          0          0          0          2          0   \n",
       "2651          0          0          0          2          0          0   \n",
       "2662          0          0          4          1          0          0   \n",
       "\n",
       "      previous8  \n",
       "2332          0  \n",
       "2343          3  \n",
       "2354          0  \n",
       "2365          3  \n",
       "2376          0  \n",
       "2387          0  \n",
       "2398          0  \n",
       "2409          0  \n",
       "2420          2  \n",
       "2431          0  \n",
       "2442          0  \n",
       "2453          0  \n",
       "2464          0  \n",
       "2475          0  \n",
       "2486          0  \n",
       "2497          0  \n",
       "2508          0  \n",
       "2519          2  \n",
       "2530          0  \n",
       "2541          0  \n",
       "2552          0  \n",
       "2563          0  \n",
       "2574          0  \n",
       "2585          0  \n",
       "2596          0  \n",
       "2607          0  \n",
       "2618          0  \n",
       "2629          0  \n",
       "2640          0  \n",
       "2651          0  \n",
       "2662          0  "
      ],
      "text/html": "<div>\n<style scoped>\n    .dataframe tbody tr th:only-of-type {\n        vertical-align: middle;\n    }\n\n    .dataframe tbody tr th {\n        vertical-align: top;\n    }\n\n    .dataframe thead th {\n        text-align: right;\n    }\n</style>\n<table border=\"1\" class=\"dataframe\">\n  <thead>\n    <tr style=\"text-align: right;\">\n      <th></th>\n      <th>Date</th>\n      <th>District</th>\n      <th>Rain</th>\n      <th>rain</th>\n      <th>month</th>\n      <th>year</th>\n      <th>day</th>\n      <th>is_rain</th>\n      <th>previous1</th>\n      <th>previous2</th>\n      <th>previous3</th>\n      <th>previous4</th>\n      <th>previous5</th>\n      <th>previous6</th>\n      <th>previous7</th>\n      <th>previous8</th>\n    </tr>\n  </thead>\n  <tbody>\n    <tr>\n      <th>2332</th>\n      <td>2010-08-01</td>\n      <td>Alangayam</td>\n      <td>-</td>\n      <td>0.0</td>\n      <td>8</td>\n      <td>2010</td>\n      <td>1</td>\n      <td>0</td>\n      <td>0</td>\n      <td>0</td>\n      <td>4</td>\n      <td>0</td>\n      <td>2</td>\n      <td>0</td>\n      <td>0</td>\n      <td>0</td>\n    </tr>\n    <tr>\n      <th>2343</th>\n      <td>2010-08-02</td>\n      <td>Alangayam</td>\n      <td>-</td>\n      <td>0.0</td>\n      <td>8</td>\n      <td>2010</td>\n      <td>2</td>\n      <td>0</td>\n      <td>0</td>\n      <td>2</td>\n      <td>3</td>\n      <td>0</td>\n      <td>0</td>\n      <td>2</td>\n      <td>0</td>\n      <td>3</td>\n    </tr>\n    <tr>\n      <th>2354</th>\n      <td>2010-08-03</td>\n      <td>Alangayam</td>\n      <td>-</td>\n      <td>0.0</td>\n      <td>8</td>\n      <td>2010</td>\n      <td>3</td>\n      <td>0</td>\n      <td>0</td>\n      <td>0</td>\n      <td>0</td>\n      <td>0</td>\n      <td>3</td>\n      <td>2</td>\n      <td>0</td>\n      <td>0</td>\n    </tr>\n    <tr>\n      <th>2365</th>\n      <td>2010-08-04</td>\n      <td>Alangayam</td>\n      <td>-</td>\n      <td>0.0</td>\n      <td>8</td>\n      <td>2010</td>\n      <td>4</td>\n      <td>0</td>\n      <td>0</td>\n      <td>0</td>\n      <td>0</td>\n      <td>0</td>\n      <td>0</td>\n      <td>2</td>\n      <td>2</td>\n      <td>3</td>\n    </tr>\n    <tr>\n      <th>2376</th>\n      <td>2010-08-05</td>\n      <td>Alangayam</td>\n      <td>-</td>\n      <td>0.0</td>\n      <td>8</td>\n      <td>2010</td>\n      <td>5</td>\n      <td>0</td>\n      <td>0</td>\n      <td>0</td>\n      <td>0</td>\n      <td>0</td>\n      <td>2</td>\n      <td>0</td>\n      <td>2</td>\n      <td>0</td>\n    </tr>\n    <tr>\n      <th>2387</th>\n      <td>2010-08-06</td>\n      <td>Alangayam</td>\n      <td>-</td>\n      <td>0.0</td>\n      <td>8</td>\n      <td>2010</td>\n      <td>6</td>\n      <td>0</td>\n      <td>0</td>\n      <td>0</td>\n      <td>2</td>\n      <td>0</td>\n      <td>2</td>\n      <td>2</td>\n      <td>0</td>\n      <td>0</td>\n    </tr>\n    <tr>\n      <th>2398</th>\n      <td>2010-08-07</td>\n      <td>Alangayam</td>\n      <td>-</td>\n      <td>0.0</td>\n      <td>8</td>\n      <td>2010</td>\n      <td>7</td>\n      <td>0</td>\n      <td>0</td>\n      <td>0</td>\n      <td>0</td>\n      <td>0</td>\n      <td>2</td>\n      <td>2</td>\n      <td>0</td>\n      <td>0</td>\n    </tr>\n    <tr>\n      <th>2409</th>\n      <td>2010-08-08</td>\n      <td>Alangayam</td>\n      <td>-</td>\n      <td>0.0</td>\n      <td>8</td>\n      <td>2010</td>\n      <td>8</td>\n      <td>0</td>\n      <td>0</td>\n      <td>0</td>\n      <td>2</td>\n      <td>0</td>\n      <td>2</td>\n      <td>2</td>\n      <td>2</td>\n      <td>0</td>\n    </tr>\n    <tr>\n      <th>2420</th>\n      <td>2010-08-09</td>\n      <td>Alangayam</td>\n      <td>-</td>\n      <td>0.0</td>\n      <td>8</td>\n      <td>2010</td>\n      <td>9</td>\n      <td>0</td>\n      <td>0</td>\n      <td>0</td>\n      <td>2</td>\n      <td>0</td>\n      <td>2</td>\n      <td>2</td>\n      <td>0</td>\n      <td>2</td>\n    </tr>\n    <tr>\n      <th>2431</th>\n      <td>2010-08-10</td>\n      <td>Alangayam</td>\n      <td>-</td>\n      <td>0.0</td>\n      <td>8</td>\n      <td>2010</td>\n      <td>10</td>\n      <td>0</td>\n      <td>0</td>\n      <td>0</td>\n      <td>2</td>\n      <td>0</td>\n      <td>2</td>\n      <td>2</td>\n      <td>0</td>\n      <td>0</td>\n    </tr>\n    <tr>\n      <th>2442</th>\n      <td>2010-08-11</td>\n      <td>Alangayam</td>\n      <td>-</td>\n      <td>0.0</td>\n      <td>8</td>\n      <td>2010</td>\n      <td>11</td>\n      <td>0</td>\n      <td>0</td>\n      <td>0</td>\n      <td>2</td>\n      <td>0</td>\n      <td>1</td>\n      <td>2</td>\n      <td>0</td>\n      <td>0</td>\n    </tr>\n    <tr>\n      <th>2453</th>\n      <td>2010-08-12</td>\n      <td>Alangayam</td>\n      <td>-</td>\n      <td>0.0</td>\n      <td>8</td>\n      <td>2010</td>\n      <td>12</td>\n      <td>0</td>\n      <td>0</td>\n      <td>0</td>\n      <td>2</td>\n      <td>0</td>\n      <td>2</td>\n      <td>1</td>\n      <td>0</td>\n      <td>0</td>\n    </tr>\n    <tr>\n      <th>2464</th>\n      <td>2010-08-13</td>\n      <td>Alangayam</td>\n      <td>-</td>\n      <td>0.0</td>\n      <td>8</td>\n      <td>2010</td>\n      <td>13</td>\n      <td>0</td>\n      <td>0</td>\n      <td>0</td>\n      <td>2</td>\n      <td>0</td>\n      <td>0</td>\n      <td>2</td>\n      <td>0</td>\n      <td>0</td>\n    </tr>\n    <tr>\n      <th>2475</th>\n      <td>2010-08-14</td>\n      <td>Alangayam</td>\n      <td>0.8</td>\n      <td>0.8</td>\n      <td>8</td>\n      <td>2010</td>\n      <td>14</td>\n      <td>0</td>\n      <td>0</td>\n      <td>0</td>\n      <td>3</td>\n      <td>0</td>\n      <td>2</td>\n      <td>0</td>\n      <td>0</td>\n      <td>0</td>\n    </tr>\n    <tr>\n      <th>2486</th>\n      <td>2010-08-15</td>\n      <td>Alangayam</td>\n      <td>-</td>\n      <td>0.0</td>\n      <td>8</td>\n      <td>2010</td>\n      <td>15</td>\n      <td>0</td>\n      <td>0</td>\n      <td>2</td>\n      <td>2</td>\n      <td>0</td>\n      <td>1</td>\n      <td>2</td>\n      <td>0</td>\n      <td>0</td>\n    </tr>\n    <tr>\n      <th>2497</th>\n      <td>2010-08-16</td>\n      <td>Alangayam</td>\n      <td>-</td>\n      <td>0.0</td>\n      <td>8</td>\n      <td>2010</td>\n      <td>16</td>\n      <td>0</td>\n      <td>0</td>\n      <td>1</td>\n      <td>2</td>\n      <td>2</td>\n      <td>2</td>\n      <td>2</td>\n      <td>0</td>\n      <td>0</td>\n    </tr>\n    <tr>\n      <th>2508</th>\n      <td>2010-08-17</td>\n      <td>Alangayam</td>\n      <td>-</td>\n      <td>0.0</td>\n      <td>8</td>\n      <td>2010</td>\n      <td>17</td>\n      <td>0</td>\n      <td>4</td>\n      <td>0</td>\n      <td>1</td>\n      <td>0</td>\n      <td>0</td>\n      <td>2</td>\n      <td>0</td>\n      <td>0</td>\n    </tr>\n    <tr>\n      <th>2519</th>\n      <td>2010-08-18</td>\n      <td>Alangayam</td>\n      <td>-</td>\n      <td>0.0</td>\n      <td>8</td>\n      <td>2010</td>\n      <td>18</td>\n      <td>0</td>\n      <td>5</td>\n      <td>0</td>\n      <td>0</td>\n      <td>0</td>\n      <td>2</td>\n      <td>0</td>\n      <td>0</td>\n      <td>2</td>\n    </tr>\n    <tr>\n      <th>2530</th>\n      <td>2010-08-19</td>\n      <td>Alangayam</td>\n      <td>-</td>\n      <td>0.0</td>\n      <td>8</td>\n      <td>2010</td>\n      <td>19</td>\n      <td>0</td>\n      <td>3</td>\n      <td>0</td>\n      <td>2</td>\n      <td>0</td>\n      <td>2</td>\n      <td>2</td>\n      <td>0</td>\n      <td>0</td>\n    </tr>\n    <tr>\n      <th>2541</th>\n      <td>2010-08-20</td>\n      <td>Alangayam</td>\n      <td>-</td>\n      <td>0.0</td>\n      <td>8</td>\n      <td>2010</td>\n      <td>20</td>\n      <td>0</td>\n      <td>2</td>\n      <td>0</td>\n      <td>0</td>\n      <td>0</td>\n      <td>0</td>\n      <td>2</td>\n      <td>0</td>\n      <td>0</td>\n    </tr>\n    <tr>\n      <th>2552</th>\n      <td>2010-08-21</td>\n      <td>Alangayam</td>\n      <td>-</td>\n      <td>0.0</td>\n      <td>8</td>\n      <td>2010</td>\n      <td>21</td>\n      <td>0</td>\n      <td>0</td>\n      <td>0</td>\n      <td>0</td>\n      <td>0</td>\n      <td>2</td>\n      <td>0</td>\n      <td>0</td>\n      <td>0</td>\n    </tr>\n    <tr>\n      <th>2563</th>\n      <td>2010-08-22</td>\n      <td>Alangayam</td>\n      <td>15</td>\n      <td>15.0</td>\n      <td>8</td>\n      <td>2010</td>\n      <td>22</td>\n      <td>0</td>\n      <td>2</td>\n      <td>0</td>\n      <td>0</td>\n      <td>0</td>\n      <td>2</td>\n      <td>2</td>\n      <td>0</td>\n      <td>0</td>\n    </tr>\n    <tr>\n      <th>2574</th>\n      <td>2010-08-23</td>\n      <td>Alangayam</td>\n      <td>10</td>\n      <td>10.0</td>\n      <td>8</td>\n      <td>2010</td>\n      <td>23</td>\n      <td>0</td>\n      <td>2</td>\n      <td>0</td>\n      <td>0</td>\n      <td>0</td>\n      <td>2</td>\n      <td>2</td>\n      <td>0</td>\n      <td>0</td>\n    </tr>\n    <tr>\n      <th>2585</th>\n      <td>2010-08-24</td>\n      <td>Alangayam</td>\n      <td>-</td>\n      <td>0.0</td>\n      <td>8</td>\n      <td>2010</td>\n      <td>24</td>\n      <td>0</td>\n      <td>0</td>\n      <td>0</td>\n      <td>3</td>\n      <td>0</td>\n      <td>0</td>\n      <td>2</td>\n      <td>0</td>\n      <td>0</td>\n    </tr>\n    <tr>\n      <th>2596</th>\n      <td>2010-08-25</td>\n      <td>Alangayam</td>\n      <td>21</td>\n      <td>21.0</td>\n      <td>8</td>\n      <td>2010</td>\n      <td>25</td>\n      <td>0</td>\n      <td>0</td>\n      <td>0</td>\n      <td>2</td>\n      <td>0</td>\n      <td>2</td>\n      <td>0</td>\n      <td>0</td>\n      <td>0</td>\n    </tr>\n    <tr>\n      <th>2607</th>\n      <td>2010-08-26</td>\n      <td>Alangayam</td>\n      <td>3</td>\n      <td>3.0</td>\n      <td>8</td>\n      <td>2010</td>\n      <td>26</td>\n      <td>0</td>\n      <td>2</td>\n      <td>0</td>\n      <td>0</td>\n      <td>0</td>\n      <td>0</td>\n      <td>2</td>\n      <td>0</td>\n      <td>0</td>\n    </tr>\n    <tr>\n      <th>2618</th>\n      <td>2010-08-27</td>\n      <td>Alangayam</td>\n      <td>3</td>\n      <td>3.0</td>\n      <td>8</td>\n      <td>2010</td>\n      <td>27</td>\n      <td>0</td>\n      <td>0</td>\n      <td>0</td>\n      <td>0</td>\n      <td>0</td>\n      <td>0</td>\n      <td>2</td>\n      <td>0</td>\n      <td>0</td>\n    </tr>\n    <tr>\n      <th>2629</th>\n      <td>2010-08-28</td>\n      <td>Alangayam</td>\n      <td>-</td>\n      <td>0.0</td>\n      <td>8</td>\n      <td>2010</td>\n      <td>28</td>\n      <td>0</td>\n      <td>0</td>\n      <td>2</td>\n      <td>0</td>\n      <td>2</td>\n      <td>2</td>\n      <td>0</td>\n      <td>0</td>\n      <td>0</td>\n    </tr>\n    <tr>\n      <th>2640</th>\n      <td>2010-08-29</td>\n      <td>Alangayam</td>\n      <td>-</td>\n      <td>0.0</td>\n      <td>8</td>\n      <td>2010</td>\n      <td>29</td>\n      <td>0</td>\n      <td>0</td>\n      <td>0</td>\n      <td>0</td>\n      <td>0</td>\n      <td>0</td>\n      <td>2</td>\n      <td>0</td>\n      <td>0</td>\n    </tr>\n    <tr>\n      <th>2651</th>\n      <td>2010-08-30</td>\n      <td>Alangayam</td>\n      <td>-</td>\n      <td>0.0</td>\n      <td>8</td>\n      <td>2010</td>\n      <td>30</td>\n      <td>0</td>\n      <td>0</td>\n      <td>0</td>\n      <td>0</td>\n      <td>0</td>\n      <td>2</td>\n      <td>0</td>\n      <td>0</td>\n      <td>0</td>\n    </tr>\n    <tr>\n      <th>2662</th>\n      <td>2010-08-31</td>\n      <td>Alangayam</td>\n      <td>-</td>\n      <td>0.0</td>\n      <td>8</td>\n      <td>2010</td>\n      <td>31</td>\n      <td>0</td>\n      <td>0</td>\n      <td>0</td>\n      <td>0</td>\n      <td>4</td>\n      <td>1</td>\n      <td>0</td>\n      <td>0</td>\n      <td>0</td>\n    </tr>\n  </tbody>\n</table>\n</div>"
     },
     "metadata": {},
     "execution_count": 65
    }
   ],
   "source": []
  },
  {
   "cell_type": "code",
   "execution_count": 31,
   "metadata": {},
   "outputs": [],
   "source": [
    "pred=svr.predict(seconddf)\n",
    "for i in range(len(pred)):\n",
    "    if pred[i]<=1:\n",
    "       pred[i]=0"
   ]
  },
  {
   "cell_type": "code",
   "execution_count": 13,
   "metadata": {},
   "outputs": [
    {
     "output_type": "stream",
     "name": "stderr",
     "text": [
      "C:\\Users\\om purohit\\anaconda3\\lib\\site-packages\\xgboost\\data.py:112: UserWarning: Use subset (sliced data) of np.ndarray is not recommended because it will generate extra copies and increase memory consumption\n  warnings.warn(\n"
     ]
    }
   ],
   "source": [
    "pred=xgb_r.predict(seconddf)\n",
    "for i in range(len(pred)):\n",
    "    if pred[i]<=1:\n",
    "       pred[i]=0\n",
    "        "
   ]
  },
  {
   "cell_type": "code",
   "execution_count": 29,
   "metadata": {},
   "outputs": [],
   "source": [
    "pred=reg.predict(seconddf)\n",
    "for i in range(len(pred)):\n",
    "    if pred[i]<=1:\n",
    "        pred[i]=0"
   ]
  },
  {
   "cell_type": "code",
   "execution_count": 32,
   "metadata": {},
   "outputs": [
    {
     "output_type": "display_data",
     "data": {
      "text/plain": "<Figure size 432x288 with 1 Axes>",
      "image/svg+xml": "<?xml version=\"1.0\" encoding=\"utf-8\" standalone=\"no\"?>\r\n<!DOCTYPE svg PUBLIC \"-//W3C//DTD SVG 1.1//EN\"\r\n  \"http://www.w3.org/Graphics/SVG/1.1/DTD/svg11.dtd\">\r\n<!-- Created with matplotlib (https://matplotlib.org/) -->\r\n<svg height=\"262.19625pt\" version=\"1.1\" viewBox=\"0 0 388.965625 262.19625\" width=\"388.965625pt\" xmlns=\"http://www.w3.org/2000/svg\" xmlns:xlink=\"http://www.w3.org/1999/xlink\">\r\n <defs>\r\n  <style type=\"text/css\">\r\n*{stroke-linecap:butt;stroke-linejoin:round;}\r\n  </style>\r\n </defs>\r\n <g id=\"figure_1\">\r\n  <g id=\"patch_1\">\r\n   <path d=\"M 0 262.19625 \r\nL 388.965625 262.19625 \r\nL 388.965625 0 \r\nL 0 0 \r\nz\r\n\" style=\"fill:none;\"/>\r\n  </g>\r\n  <g id=\"axes_1\">\r\n   <g id=\"patch_2\">\r\n    <path d=\"M 46.965625 224.64 \r\nL 381.765625 224.64 \r\nL 381.765625 7.2 \r\nL 46.965625 7.2 \r\nz\r\n\" style=\"fill:#ffffff;\"/>\r\n   </g>\r\n   <g id=\"matplotlib.axis_1\">\r\n    <g id=\"xtick_1\">\r\n     <g id=\"line2d_1\">\r\n      <defs>\r\n       <path d=\"M 0 0 \r\nL 0 3.5 \r\n\" id=\"m7c5607ff7d\" style=\"stroke:#000000;stroke-width:0.8;\"/>\r\n      </defs>\r\n      <g>\r\n       <use style=\"stroke:#000000;stroke-width:0.8;\" x=\"52.038352\" xlink:href=\"#m7c5607ff7d\" y=\"224.64\"/>\r\n      </g>\r\n     </g>\r\n     <g id=\"text_1\">\r\n      <!-- 0 -->\r\n      <defs>\r\n       <path d=\"M 31.78125 66.40625 \r\nQ 24.171875 66.40625 20.328125 58.90625 \r\nQ 16.5 51.421875 16.5 36.375 \r\nQ 16.5 21.390625 20.328125 13.890625 \r\nQ 24.171875 6.390625 31.78125 6.390625 \r\nQ 39.453125 6.390625 43.28125 13.890625 \r\nQ 47.125 21.390625 47.125 36.375 \r\nQ 47.125 51.421875 43.28125 58.90625 \r\nQ 39.453125 66.40625 31.78125 66.40625 \r\nz\r\nM 31.78125 74.21875 \r\nQ 44.046875 74.21875 50.515625 64.515625 \r\nQ 56.984375 54.828125 56.984375 36.375 \r\nQ 56.984375 17.96875 50.515625 8.265625 \r\nQ 44.046875 -1.421875 31.78125 -1.421875 \r\nQ 19.53125 -1.421875 13.0625 8.265625 \r\nQ 6.59375 17.96875 6.59375 36.375 \r\nQ 6.59375 54.828125 13.0625 64.515625 \r\nQ 19.53125 74.21875 31.78125 74.21875 \r\nz\r\n\" id=\"DejaVuSans-48\"/>\r\n      </defs>\r\n      <g transform=\"translate(48.857102 239.238437)scale(0.1 -0.1)\">\r\n       <use xlink:href=\"#DejaVuSans-48\"/>\r\n      </g>\r\n     </g>\r\n    </g>\r\n    <g id=\"xtick_2\">\r\n     <g id=\"line2d_2\">\r\n      <g>\r\n       <use style=\"stroke:#000000;stroke-width:0.8;\" x=\"102.765625\" xlink:href=\"#m7c5607ff7d\" y=\"224.64\"/>\r\n      </g>\r\n     </g>\r\n     <g id=\"text_2\">\r\n      <!-- 5 -->\r\n      <defs>\r\n       <path d=\"M 10.796875 72.90625 \r\nL 49.515625 72.90625 \r\nL 49.515625 64.59375 \r\nL 19.828125 64.59375 \r\nL 19.828125 46.734375 \r\nQ 21.96875 47.46875 24.109375 47.828125 \r\nQ 26.265625 48.1875 28.421875 48.1875 \r\nQ 40.625 48.1875 47.75 41.5 \r\nQ 54.890625 34.8125 54.890625 23.390625 \r\nQ 54.890625 11.625 47.5625 5.09375 \r\nQ 40.234375 -1.421875 26.90625 -1.421875 \r\nQ 22.3125 -1.421875 17.546875 -0.640625 \r\nQ 12.796875 0.140625 7.71875 1.703125 \r\nL 7.71875 11.625 \r\nQ 12.109375 9.234375 16.796875 8.0625 \r\nQ 21.484375 6.890625 26.703125 6.890625 \r\nQ 35.15625 6.890625 40.078125 11.328125 \r\nQ 45.015625 15.765625 45.015625 23.390625 \r\nQ 45.015625 31 40.078125 35.4375 \r\nQ 35.15625 39.890625 26.703125 39.890625 \r\nQ 22.75 39.890625 18.8125 39.015625 \r\nQ 14.890625 38.140625 10.796875 36.28125 \r\nz\r\n\" id=\"DejaVuSans-53\"/>\r\n      </defs>\r\n      <g transform=\"translate(99.584375 239.238437)scale(0.1 -0.1)\">\r\n       <use xlink:href=\"#DejaVuSans-53\"/>\r\n      </g>\r\n     </g>\r\n    </g>\r\n    <g id=\"xtick_3\">\r\n     <g id=\"line2d_3\">\r\n      <g>\r\n       <use style=\"stroke:#000000;stroke-width:0.8;\" x=\"153.492898\" xlink:href=\"#m7c5607ff7d\" y=\"224.64\"/>\r\n      </g>\r\n     </g>\r\n     <g id=\"text_3\">\r\n      <!-- 10 -->\r\n      <defs>\r\n       <path d=\"M 12.40625 8.296875 \r\nL 28.515625 8.296875 \r\nL 28.515625 63.921875 \r\nL 10.984375 60.40625 \r\nL 10.984375 69.390625 \r\nL 28.421875 72.90625 \r\nL 38.28125 72.90625 \r\nL 38.28125 8.296875 \r\nL 54.390625 8.296875 \r\nL 54.390625 0 \r\nL 12.40625 0 \r\nz\r\n\" id=\"DejaVuSans-49\"/>\r\n      </defs>\r\n      <g transform=\"translate(147.130398 239.238437)scale(0.1 -0.1)\">\r\n       <use xlink:href=\"#DejaVuSans-49\"/>\r\n       <use x=\"63.623047\" xlink:href=\"#DejaVuSans-48\"/>\r\n      </g>\r\n     </g>\r\n    </g>\r\n    <g id=\"xtick_4\">\r\n     <g id=\"line2d_4\">\r\n      <g>\r\n       <use style=\"stroke:#000000;stroke-width:0.8;\" x=\"204.22017\" xlink:href=\"#m7c5607ff7d\" y=\"224.64\"/>\r\n      </g>\r\n     </g>\r\n     <g id=\"text_4\">\r\n      <!-- 15 -->\r\n      <g transform=\"translate(197.85767 239.238437)scale(0.1 -0.1)\">\r\n       <use xlink:href=\"#DejaVuSans-49\"/>\r\n       <use x=\"63.623047\" xlink:href=\"#DejaVuSans-53\"/>\r\n      </g>\r\n     </g>\r\n    </g>\r\n    <g id=\"xtick_5\">\r\n     <g id=\"line2d_5\">\r\n      <g>\r\n       <use style=\"stroke:#000000;stroke-width:0.8;\" x=\"254.947443\" xlink:href=\"#m7c5607ff7d\" y=\"224.64\"/>\r\n      </g>\r\n     </g>\r\n     <g id=\"text_5\">\r\n      <!-- 20 -->\r\n      <defs>\r\n       <path d=\"M 19.1875 8.296875 \r\nL 53.609375 8.296875 \r\nL 53.609375 0 \r\nL 7.328125 0 \r\nL 7.328125 8.296875 \r\nQ 12.9375 14.109375 22.625 23.890625 \r\nQ 32.328125 33.6875 34.8125 36.53125 \r\nQ 39.546875 41.84375 41.421875 45.53125 \r\nQ 43.3125 49.21875 43.3125 52.78125 \r\nQ 43.3125 58.59375 39.234375 62.25 \r\nQ 35.15625 65.921875 28.609375 65.921875 \r\nQ 23.96875 65.921875 18.8125 64.3125 \r\nQ 13.671875 62.703125 7.8125 59.421875 \r\nL 7.8125 69.390625 \r\nQ 13.765625 71.78125 18.9375 73 \r\nQ 24.125 74.21875 28.421875 74.21875 \r\nQ 39.75 74.21875 46.484375 68.546875 \r\nQ 53.21875 62.890625 53.21875 53.421875 \r\nQ 53.21875 48.921875 51.53125 44.890625 \r\nQ 49.859375 40.875 45.40625 35.40625 \r\nQ 44.1875 33.984375 37.640625 27.21875 \r\nQ 31.109375 20.453125 19.1875 8.296875 \r\nz\r\n\" id=\"DejaVuSans-50\"/>\r\n      </defs>\r\n      <g transform=\"translate(248.584943 239.238437)scale(0.1 -0.1)\">\r\n       <use xlink:href=\"#DejaVuSans-50\"/>\r\n       <use x=\"63.623047\" xlink:href=\"#DejaVuSans-48\"/>\r\n      </g>\r\n     </g>\r\n    </g>\r\n    <g id=\"xtick_6\">\r\n     <g id=\"line2d_6\">\r\n      <g>\r\n       <use style=\"stroke:#000000;stroke-width:0.8;\" x=\"305.674716\" xlink:href=\"#m7c5607ff7d\" y=\"224.64\"/>\r\n      </g>\r\n     </g>\r\n     <g id=\"text_6\">\r\n      <!-- 25 -->\r\n      <g transform=\"translate(299.312216 239.238437)scale(0.1 -0.1)\">\r\n       <use xlink:href=\"#DejaVuSans-50\"/>\r\n       <use x=\"63.623047\" xlink:href=\"#DejaVuSans-53\"/>\r\n      </g>\r\n     </g>\r\n    </g>\r\n    <g id=\"xtick_7\">\r\n     <g id=\"line2d_7\">\r\n      <g>\r\n       <use style=\"stroke:#000000;stroke-width:0.8;\" x=\"356.401989\" xlink:href=\"#m7c5607ff7d\" y=\"224.64\"/>\r\n      </g>\r\n     </g>\r\n     <g id=\"text_7\">\r\n      <!-- 30 -->\r\n      <defs>\r\n       <path d=\"M 40.578125 39.3125 \r\nQ 47.65625 37.796875 51.625 33 \r\nQ 55.609375 28.21875 55.609375 21.1875 \r\nQ 55.609375 10.40625 48.1875 4.484375 \r\nQ 40.765625 -1.421875 27.09375 -1.421875 \r\nQ 22.515625 -1.421875 17.65625 -0.515625 \r\nQ 12.796875 0.390625 7.625 2.203125 \r\nL 7.625 11.71875 \r\nQ 11.71875 9.328125 16.59375 8.109375 \r\nQ 21.484375 6.890625 26.8125 6.890625 \r\nQ 36.078125 6.890625 40.9375 10.546875 \r\nQ 45.796875 14.203125 45.796875 21.1875 \r\nQ 45.796875 27.640625 41.28125 31.265625 \r\nQ 36.765625 34.90625 28.71875 34.90625 \r\nL 20.21875 34.90625 \r\nL 20.21875 43.015625 \r\nL 29.109375 43.015625 \r\nQ 36.375 43.015625 40.234375 45.921875 \r\nQ 44.09375 48.828125 44.09375 54.296875 \r\nQ 44.09375 59.90625 40.109375 62.90625 \r\nQ 36.140625 65.921875 28.71875 65.921875 \r\nQ 24.65625 65.921875 20.015625 65.03125 \r\nQ 15.375 64.15625 9.8125 62.3125 \r\nL 9.8125 71.09375 \r\nQ 15.4375 72.65625 20.34375 73.4375 \r\nQ 25.25 74.21875 29.59375 74.21875 \r\nQ 40.828125 74.21875 47.359375 69.109375 \r\nQ 53.90625 64.015625 53.90625 55.328125 \r\nQ 53.90625 49.265625 50.4375 45.09375 \r\nQ 46.96875 40.921875 40.578125 39.3125 \r\nz\r\n\" id=\"DejaVuSans-51\"/>\r\n      </defs>\r\n      <g transform=\"translate(350.039489 239.238437)scale(0.1 -0.1)\">\r\n       <use xlink:href=\"#DejaVuSans-51\"/>\r\n       <use x=\"63.623047\" xlink:href=\"#DejaVuSans-48\"/>\r\n      </g>\r\n     </g>\r\n    </g>\r\n    <g id=\"text_8\">\r\n     <!-- days of August 2019 Alangayam -->\r\n     <defs>\r\n      <path d=\"M 45.40625 46.390625 \r\nL 45.40625 75.984375 \r\nL 54.390625 75.984375 \r\nL 54.390625 0 \r\nL 45.40625 0 \r\nL 45.40625 8.203125 \r\nQ 42.578125 3.328125 38.25 0.953125 \r\nQ 33.9375 -1.421875 27.875 -1.421875 \r\nQ 17.96875 -1.421875 11.734375 6.484375 \r\nQ 5.515625 14.40625 5.515625 27.296875 \r\nQ 5.515625 40.1875 11.734375 48.09375 \r\nQ 17.96875 56 27.875 56 \r\nQ 33.9375 56 38.25 53.625 \r\nQ 42.578125 51.265625 45.40625 46.390625 \r\nz\r\nM 14.796875 27.296875 \r\nQ 14.796875 17.390625 18.875 11.75 \r\nQ 22.953125 6.109375 30.078125 6.109375 \r\nQ 37.203125 6.109375 41.296875 11.75 \r\nQ 45.40625 17.390625 45.40625 27.296875 \r\nQ 45.40625 37.203125 41.296875 42.84375 \r\nQ 37.203125 48.484375 30.078125 48.484375 \r\nQ 22.953125 48.484375 18.875 42.84375 \r\nQ 14.796875 37.203125 14.796875 27.296875 \r\nz\r\n\" id=\"DejaVuSans-100\"/>\r\n      <path d=\"M 34.28125 27.484375 \r\nQ 23.390625 27.484375 19.1875 25 \r\nQ 14.984375 22.515625 14.984375 16.5 \r\nQ 14.984375 11.71875 18.140625 8.90625 \r\nQ 21.296875 6.109375 26.703125 6.109375 \r\nQ 34.1875 6.109375 38.703125 11.40625 \r\nQ 43.21875 16.703125 43.21875 25.484375 \r\nL 43.21875 27.484375 \r\nz\r\nM 52.203125 31.203125 \r\nL 52.203125 0 \r\nL 43.21875 0 \r\nL 43.21875 8.296875 \r\nQ 40.140625 3.328125 35.546875 0.953125 \r\nQ 30.953125 -1.421875 24.3125 -1.421875 \r\nQ 15.921875 -1.421875 10.953125 3.296875 \r\nQ 6 8.015625 6 15.921875 \r\nQ 6 25.140625 12.171875 29.828125 \r\nQ 18.359375 34.515625 30.609375 34.515625 \r\nL 43.21875 34.515625 \r\nL 43.21875 35.40625 \r\nQ 43.21875 41.609375 39.140625 45 \r\nQ 35.0625 48.390625 27.6875 48.390625 \r\nQ 23 48.390625 18.546875 47.265625 \r\nQ 14.109375 46.140625 10.015625 43.890625 \r\nL 10.015625 52.203125 \r\nQ 14.9375 54.109375 19.578125 55.046875 \r\nQ 24.21875 56 28.609375 56 \r\nQ 40.484375 56 46.34375 49.84375 \r\nQ 52.203125 43.703125 52.203125 31.203125 \r\nz\r\n\" id=\"DejaVuSans-97\"/>\r\n      <path d=\"M 32.171875 -5.078125 \r\nQ 28.375 -14.84375 24.75 -17.8125 \r\nQ 21.140625 -20.796875 15.09375 -20.796875 \r\nL 7.90625 -20.796875 \r\nL 7.90625 -13.28125 \r\nL 13.1875 -13.28125 \r\nQ 16.890625 -13.28125 18.9375 -11.515625 \r\nQ 21 -9.765625 23.484375 -3.21875 \r\nL 25.09375 0.875 \r\nL 2.984375 54.6875 \r\nL 12.5 54.6875 \r\nL 29.59375 11.921875 \r\nL 46.6875 54.6875 \r\nL 56.203125 54.6875 \r\nz\r\n\" id=\"DejaVuSans-121\"/>\r\n      <path d=\"M 44.28125 53.078125 \r\nL 44.28125 44.578125 \r\nQ 40.484375 46.53125 36.375 47.5 \r\nQ 32.28125 48.484375 27.875 48.484375 \r\nQ 21.1875 48.484375 17.84375 46.4375 \r\nQ 14.5 44.390625 14.5 40.28125 \r\nQ 14.5 37.15625 16.890625 35.375 \r\nQ 19.28125 33.59375 26.515625 31.984375 \r\nL 29.59375 31.296875 \r\nQ 39.15625 29.25 43.1875 25.515625 \r\nQ 47.21875 21.78125 47.21875 15.09375 \r\nQ 47.21875 7.46875 41.1875 3.015625 \r\nQ 35.15625 -1.421875 24.609375 -1.421875 \r\nQ 20.21875 -1.421875 15.453125 -0.5625 \r\nQ 10.6875 0.296875 5.421875 2 \r\nL 5.421875 11.28125 \r\nQ 10.40625 8.6875 15.234375 7.390625 \r\nQ 20.0625 6.109375 24.8125 6.109375 \r\nQ 31.15625 6.109375 34.5625 8.28125 \r\nQ 37.984375 10.453125 37.984375 14.40625 \r\nQ 37.984375 18.0625 35.515625 20.015625 \r\nQ 33.0625 21.96875 24.703125 23.78125 \r\nL 21.578125 24.515625 \r\nQ 13.234375 26.265625 9.515625 29.90625 \r\nQ 5.8125 33.546875 5.8125 39.890625 \r\nQ 5.8125 47.609375 11.28125 51.796875 \r\nQ 16.75 56 26.8125 56 \r\nQ 31.78125 56 36.171875 55.265625 \r\nQ 40.578125 54.546875 44.28125 53.078125 \r\nz\r\n\" id=\"DejaVuSans-115\"/>\r\n      <path id=\"DejaVuSans-32\"/>\r\n      <path d=\"M 30.609375 48.390625 \r\nQ 23.390625 48.390625 19.1875 42.75 \r\nQ 14.984375 37.109375 14.984375 27.296875 \r\nQ 14.984375 17.484375 19.15625 11.84375 \r\nQ 23.34375 6.203125 30.609375 6.203125 \r\nQ 37.796875 6.203125 41.984375 11.859375 \r\nQ 46.1875 17.53125 46.1875 27.296875 \r\nQ 46.1875 37.015625 41.984375 42.703125 \r\nQ 37.796875 48.390625 30.609375 48.390625 \r\nz\r\nM 30.609375 56 \r\nQ 42.328125 56 49.015625 48.375 \r\nQ 55.71875 40.765625 55.71875 27.296875 \r\nQ 55.71875 13.875 49.015625 6.21875 \r\nQ 42.328125 -1.421875 30.609375 -1.421875 \r\nQ 18.84375 -1.421875 12.171875 6.21875 \r\nQ 5.515625 13.875 5.515625 27.296875 \r\nQ 5.515625 40.765625 12.171875 48.375 \r\nQ 18.84375 56 30.609375 56 \r\nz\r\n\" id=\"DejaVuSans-111\"/>\r\n      <path d=\"M 37.109375 75.984375 \r\nL 37.109375 68.5 \r\nL 28.515625 68.5 \r\nQ 23.6875 68.5 21.796875 66.546875 \r\nQ 19.921875 64.59375 19.921875 59.515625 \r\nL 19.921875 54.6875 \r\nL 34.71875 54.6875 \r\nL 34.71875 47.703125 \r\nL 19.921875 47.703125 \r\nL 19.921875 0 \r\nL 10.890625 0 \r\nL 10.890625 47.703125 \r\nL 2.296875 47.703125 \r\nL 2.296875 54.6875 \r\nL 10.890625 54.6875 \r\nL 10.890625 58.5 \r\nQ 10.890625 67.625 15.140625 71.796875 \r\nQ 19.390625 75.984375 28.609375 75.984375 \r\nz\r\n\" id=\"DejaVuSans-102\"/>\r\n      <path d=\"M 34.1875 63.1875 \r\nL 20.796875 26.90625 \r\nL 47.609375 26.90625 \r\nz\r\nM 28.609375 72.90625 \r\nL 39.796875 72.90625 \r\nL 67.578125 0 \r\nL 57.328125 0 \r\nL 50.6875 18.703125 \r\nL 17.828125 18.703125 \r\nL 11.1875 0 \r\nL 0.78125 0 \r\nz\r\n\" id=\"DejaVuSans-65\"/>\r\n      <path d=\"M 8.5 21.578125 \r\nL 8.5 54.6875 \r\nL 17.484375 54.6875 \r\nL 17.484375 21.921875 \r\nQ 17.484375 14.15625 20.5 10.265625 \r\nQ 23.53125 6.390625 29.59375 6.390625 \r\nQ 36.859375 6.390625 41.078125 11.03125 \r\nQ 45.3125 15.671875 45.3125 23.6875 \r\nL 45.3125 54.6875 \r\nL 54.296875 54.6875 \r\nL 54.296875 0 \r\nL 45.3125 0 \r\nL 45.3125 8.40625 \r\nQ 42.046875 3.421875 37.71875 1 \r\nQ 33.40625 -1.421875 27.6875 -1.421875 \r\nQ 18.265625 -1.421875 13.375 4.4375 \r\nQ 8.5 10.296875 8.5 21.578125 \r\nz\r\nM 31.109375 56 \r\nz\r\n\" id=\"DejaVuSans-117\"/>\r\n      <path d=\"M 45.40625 27.984375 \r\nQ 45.40625 37.75 41.375 43.109375 \r\nQ 37.359375 48.484375 30.078125 48.484375 \r\nQ 22.859375 48.484375 18.828125 43.109375 \r\nQ 14.796875 37.75 14.796875 27.984375 \r\nQ 14.796875 18.265625 18.828125 12.890625 \r\nQ 22.859375 7.515625 30.078125 7.515625 \r\nQ 37.359375 7.515625 41.375 12.890625 \r\nQ 45.40625 18.265625 45.40625 27.984375 \r\nz\r\nM 54.390625 6.78125 \r\nQ 54.390625 -7.171875 48.1875 -13.984375 \r\nQ 42 -20.796875 29.203125 -20.796875 \r\nQ 24.46875 -20.796875 20.265625 -20.09375 \r\nQ 16.0625 -19.390625 12.109375 -17.921875 \r\nL 12.109375 -9.1875 \r\nQ 16.0625 -11.328125 19.921875 -12.34375 \r\nQ 23.78125 -13.375 27.78125 -13.375 \r\nQ 36.625 -13.375 41.015625 -8.765625 \r\nQ 45.40625 -4.15625 45.40625 5.171875 \r\nL 45.40625 9.625 \r\nQ 42.625 4.78125 38.28125 2.390625 \r\nQ 33.9375 0 27.875 0 \r\nQ 17.828125 0 11.671875 7.65625 \r\nQ 5.515625 15.328125 5.515625 27.984375 \r\nQ 5.515625 40.671875 11.671875 48.328125 \r\nQ 17.828125 56 27.875 56 \r\nQ 33.9375 56 38.28125 53.609375 \r\nQ 42.625 51.21875 45.40625 46.390625 \r\nL 45.40625 54.6875 \r\nL 54.390625 54.6875 \r\nz\r\n\" id=\"DejaVuSans-103\"/>\r\n      <path d=\"M 18.3125 70.21875 \r\nL 18.3125 54.6875 \r\nL 36.8125 54.6875 \r\nL 36.8125 47.703125 \r\nL 18.3125 47.703125 \r\nL 18.3125 18.015625 \r\nQ 18.3125 11.328125 20.140625 9.421875 \r\nQ 21.96875 7.515625 27.59375 7.515625 \r\nL 36.8125 7.515625 \r\nL 36.8125 0 \r\nL 27.59375 0 \r\nQ 17.1875 0 13.234375 3.875 \r\nQ 9.28125 7.765625 9.28125 18.015625 \r\nL 9.28125 47.703125 \r\nL 2.6875 47.703125 \r\nL 2.6875 54.6875 \r\nL 9.28125 54.6875 \r\nL 9.28125 70.21875 \r\nz\r\n\" id=\"DejaVuSans-116\"/>\r\n      <path d=\"M 10.984375 1.515625 \r\nL 10.984375 10.5 \r\nQ 14.703125 8.734375 18.5 7.8125 \r\nQ 22.3125 6.890625 25.984375 6.890625 \r\nQ 35.75 6.890625 40.890625 13.453125 \r\nQ 46.046875 20.015625 46.78125 33.40625 \r\nQ 43.953125 29.203125 39.59375 26.953125 \r\nQ 35.25 24.703125 29.984375 24.703125 \r\nQ 19.046875 24.703125 12.671875 31.3125 \r\nQ 6.296875 37.9375 6.296875 49.421875 \r\nQ 6.296875 60.640625 12.9375 67.421875 \r\nQ 19.578125 74.21875 30.609375 74.21875 \r\nQ 43.265625 74.21875 49.921875 64.515625 \r\nQ 56.59375 54.828125 56.59375 36.375 \r\nQ 56.59375 19.140625 48.40625 8.859375 \r\nQ 40.234375 -1.421875 26.421875 -1.421875 \r\nQ 22.703125 -1.421875 18.890625 -0.6875 \r\nQ 15.09375 0.046875 10.984375 1.515625 \r\nz\r\nM 30.609375 32.421875 \r\nQ 37.25 32.421875 41.125 36.953125 \r\nQ 45.015625 41.5 45.015625 49.421875 \r\nQ 45.015625 57.28125 41.125 61.84375 \r\nQ 37.25 66.40625 30.609375 66.40625 \r\nQ 23.96875 66.40625 20.09375 61.84375 \r\nQ 16.21875 57.28125 16.21875 49.421875 \r\nQ 16.21875 41.5 20.09375 36.953125 \r\nQ 23.96875 32.421875 30.609375 32.421875 \r\nz\r\n\" id=\"DejaVuSans-57\"/>\r\n      <path d=\"M 9.421875 75.984375 \r\nL 18.40625 75.984375 \r\nL 18.40625 0 \r\nL 9.421875 0 \r\nz\r\n\" id=\"DejaVuSans-108\"/>\r\n      <path d=\"M 54.890625 33.015625 \r\nL 54.890625 0 \r\nL 45.90625 0 \r\nL 45.90625 32.71875 \r\nQ 45.90625 40.484375 42.875 44.328125 \r\nQ 39.84375 48.1875 33.796875 48.1875 \r\nQ 26.515625 48.1875 22.3125 43.546875 \r\nQ 18.109375 38.921875 18.109375 30.90625 \r\nL 18.109375 0 \r\nL 9.078125 0 \r\nL 9.078125 54.6875 \r\nL 18.109375 54.6875 \r\nL 18.109375 46.1875 \r\nQ 21.34375 51.125 25.703125 53.5625 \r\nQ 30.078125 56 35.796875 56 \r\nQ 45.21875 56 50.046875 50.171875 \r\nQ 54.890625 44.34375 54.890625 33.015625 \r\nz\r\n\" id=\"DejaVuSans-110\"/>\r\n      <path d=\"M 52 44.1875 \r\nQ 55.375 50.25 60.0625 53.125 \r\nQ 64.75 56 71.09375 56 \r\nQ 79.640625 56 84.28125 50.015625 \r\nQ 88.921875 44.046875 88.921875 33.015625 \r\nL 88.921875 0 \r\nL 79.890625 0 \r\nL 79.890625 32.71875 \r\nQ 79.890625 40.578125 77.09375 44.375 \r\nQ 74.3125 48.1875 68.609375 48.1875 \r\nQ 61.625 48.1875 57.5625 43.546875 \r\nQ 53.515625 38.921875 53.515625 30.90625 \r\nL 53.515625 0 \r\nL 44.484375 0 \r\nL 44.484375 32.71875 \r\nQ 44.484375 40.625 41.703125 44.40625 \r\nQ 38.921875 48.1875 33.109375 48.1875 \r\nQ 26.21875 48.1875 22.15625 43.53125 \r\nQ 18.109375 38.875 18.109375 30.90625 \r\nL 18.109375 0 \r\nL 9.078125 0 \r\nL 9.078125 54.6875 \r\nL 18.109375 54.6875 \r\nL 18.109375 46.1875 \r\nQ 21.1875 51.21875 25.484375 53.609375 \r\nQ 29.78125 56 35.6875 56 \r\nQ 41.65625 56 45.828125 52.96875 \r\nQ 50 49.953125 52 44.1875 \r\nz\r\n\" id=\"DejaVuSans-109\"/>\r\n     </defs>\r\n     <g transform=\"translate(132.991406 252.916562)scale(0.1 -0.1)\">\r\n      <use xlink:href=\"#DejaVuSans-100\"/>\r\n      <use x=\"63.476562\" xlink:href=\"#DejaVuSans-97\"/>\r\n      <use x=\"124.755859\" xlink:href=\"#DejaVuSans-121\"/>\r\n      <use x=\"183.935547\" xlink:href=\"#DejaVuSans-115\"/>\r\n      <use x=\"236.035156\" xlink:href=\"#DejaVuSans-32\"/>\r\n      <use x=\"267.822266\" xlink:href=\"#DejaVuSans-111\"/>\r\n      <use x=\"329.003906\" xlink:href=\"#DejaVuSans-102\"/>\r\n      <use x=\"364.208984\" xlink:href=\"#DejaVuSans-32\"/>\r\n      <use x=\"395.996094\" xlink:href=\"#DejaVuSans-65\"/>\r\n      <use x=\"464.404297\" xlink:href=\"#DejaVuSans-117\"/>\r\n      <use x=\"527.783203\" xlink:href=\"#DejaVuSans-103\"/>\r\n      <use x=\"591.259766\" xlink:href=\"#DejaVuSans-117\"/>\r\n      <use x=\"654.638672\" xlink:href=\"#DejaVuSans-115\"/>\r\n      <use x=\"706.738281\" xlink:href=\"#DejaVuSans-116\"/>\r\n      <use x=\"745.947266\" xlink:href=\"#DejaVuSans-32\"/>\r\n      <use x=\"777.734375\" xlink:href=\"#DejaVuSans-50\"/>\r\n      <use x=\"841.357422\" xlink:href=\"#DejaVuSans-48\"/>\r\n      <use x=\"904.980469\" xlink:href=\"#DejaVuSans-49\"/>\r\n      <use x=\"968.603516\" xlink:href=\"#DejaVuSans-57\"/>\r\n      <use x=\"1032.226562\" xlink:href=\"#DejaVuSans-32\"/>\r\n      <use x=\"1064.013672\" xlink:href=\"#DejaVuSans-65\"/>\r\n      <use x=\"1132.421875\" xlink:href=\"#DejaVuSans-108\"/>\r\n      <use x=\"1160.205078\" xlink:href=\"#DejaVuSans-97\"/>\r\n      <use x=\"1221.484375\" xlink:href=\"#DejaVuSans-110\"/>\r\n      <use x=\"1284.863281\" xlink:href=\"#DejaVuSans-103\"/>\r\n      <use x=\"1348.339844\" xlink:href=\"#DejaVuSans-97\"/>\r\n      <use x=\"1409.619141\" xlink:href=\"#DejaVuSans-121\"/>\r\n      <use x=\"1468.798828\" xlink:href=\"#DejaVuSans-97\"/>\r\n      <use x=\"1530.078125\" xlink:href=\"#DejaVuSans-109\"/>\r\n     </g>\r\n    </g>\r\n   </g>\r\n   <g id=\"matplotlib.axis_2\">\r\n    <g id=\"ytick_1\">\r\n     <g id=\"line2d_8\">\r\n      <defs>\r\n       <path d=\"M 0 0 \r\nL -3.5 0 \r\n\" id=\"m3b94385353\" style=\"stroke:#000000;stroke-width:0.8;\"/>\r\n      </defs>\r\n      <g>\r\n       <use style=\"stroke:#000000;stroke-width:0.8;\" x=\"46.965625\" xlink:href=\"#m3b94385353\" y=\"214.756364\"/>\r\n      </g>\r\n     </g>\r\n     <g id=\"text_9\">\r\n      <!-- 0 -->\r\n      <g transform=\"translate(33.603125 218.555582)scale(0.1 -0.1)\">\r\n       <use xlink:href=\"#DejaVuSans-48\"/>\r\n      </g>\r\n     </g>\r\n    </g>\r\n    <g id=\"ytick_2\">\r\n     <g id=\"line2d_9\">\r\n      <g>\r\n       <use style=\"stroke:#000000;stroke-width:0.8;\" x=\"46.965625\" xlink:href=\"#m3b94385353\" y=\"188.539822\"/>\r\n      </g>\r\n     </g>\r\n     <g id=\"text_10\">\r\n      <!-- 20 -->\r\n      <g transform=\"translate(27.240625 192.33904)scale(0.1 -0.1)\">\r\n       <use xlink:href=\"#DejaVuSans-50\"/>\r\n       <use x=\"63.623047\" xlink:href=\"#DejaVuSans-48\"/>\r\n      </g>\r\n     </g>\r\n    </g>\r\n    <g id=\"ytick_3\">\r\n     <g id=\"line2d_10\">\r\n      <g>\r\n       <use style=\"stroke:#000000;stroke-width:0.8;\" x=\"46.965625\" xlink:href=\"#m3b94385353\" y=\"162.323279\"/>\r\n      </g>\r\n     </g>\r\n     <g id=\"text_11\">\r\n      <!-- 40 -->\r\n      <defs>\r\n       <path d=\"M 37.796875 64.3125 \r\nL 12.890625 25.390625 \r\nL 37.796875 25.390625 \r\nz\r\nM 35.203125 72.90625 \r\nL 47.609375 72.90625 \r\nL 47.609375 25.390625 \r\nL 58.015625 25.390625 \r\nL 58.015625 17.1875 \r\nL 47.609375 17.1875 \r\nL 47.609375 0 \r\nL 37.796875 0 \r\nL 37.796875 17.1875 \r\nL 4.890625 17.1875 \r\nL 4.890625 26.703125 \r\nz\r\n\" id=\"DejaVuSans-52\"/>\r\n      </defs>\r\n      <g transform=\"translate(27.240625 166.122498)scale(0.1 -0.1)\">\r\n       <use xlink:href=\"#DejaVuSans-52\"/>\r\n       <use x=\"63.623047\" xlink:href=\"#DejaVuSans-48\"/>\r\n      </g>\r\n     </g>\r\n    </g>\r\n    <g id=\"ytick_4\">\r\n     <g id=\"line2d_11\">\r\n      <g>\r\n       <use style=\"stroke:#000000;stroke-width:0.8;\" x=\"46.965625\" xlink:href=\"#m3b94385353\" y=\"136.106737\"/>\r\n      </g>\r\n     </g>\r\n     <g id=\"text_12\">\r\n      <!-- 60 -->\r\n      <defs>\r\n       <path d=\"M 33.015625 40.375 \r\nQ 26.375 40.375 22.484375 35.828125 \r\nQ 18.609375 31.296875 18.609375 23.390625 \r\nQ 18.609375 15.53125 22.484375 10.953125 \r\nQ 26.375 6.390625 33.015625 6.390625 \r\nQ 39.65625 6.390625 43.53125 10.953125 \r\nQ 47.40625 15.53125 47.40625 23.390625 \r\nQ 47.40625 31.296875 43.53125 35.828125 \r\nQ 39.65625 40.375 33.015625 40.375 \r\nz\r\nM 52.59375 71.296875 \r\nL 52.59375 62.3125 \r\nQ 48.875 64.0625 45.09375 64.984375 \r\nQ 41.3125 65.921875 37.59375 65.921875 \r\nQ 27.828125 65.921875 22.671875 59.328125 \r\nQ 17.53125 52.734375 16.796875 39.40625 \r\nQ 19.671875 43.65625 24.015625 45.921875 \r\nQ 28.375 48.1875 33.59375 48.1875 \r\nQ 44.578125 48.1875 50.953125 41.515625 \r\nQ 57.328125 34.859375 57.328125 23.390625 \r\nQ 57.328125 12.15625 50.6875 5.359375 \r\nQ 44.046875 -1.421875 33.015625 -1.421875 \r\nQ 20.359375 -1.421875 13.671875 8.265625 \r\nQ 6.984375 17.96875 6.984375 36.375 \r\nQ 6.984375 53.65625 15.1875 63.9375 \r\nQ 23.390625 74.21875 37.203125 74.21875 \r\nQ 40.921875 74.21875 44.703125 73.484375 \r\nQ 48.484375 72.75 52.59375 71.296875 \r\nz\r\n\" id=\"DejaVuSans-54\"/>\r\n      </defs>\r\n      <g transform=\"translate(27.240625 139.905956)scale(0.1 -0.1)\">\r\n       <use xlink:href=\"#DejaVuSans-54\"/>\r\n       <use x=\"63.623047\" xlink:href=\"#DejaVuSans-48\"/>\r\n      </g>\r\n     </g>\r\n    </g>\r\n    <g id=\"ytick_5\">\r\n     <g id=\"line2d_12\">\r\n      <g>\r\n       <use style=\"stroke:#000000;stroke-width:0.8;\" x=\"46.965625\" xlink:href=\"#m3b94385353\" y=\"109.890195\"/>\r\n      </g>\r\n     </g>\r\n     <g id=\"text_13\">\r\n      <!-- 80 -->\r\n      <defs>\r\n       <path d=\"M 31.78125 34.625 \r\nQ 24.75 34.625 20.71875 30.859375 \r\nQ 16.703125 27.09375 16.703125 20.515625 \r\nQ 16.703125 13.921875 20.71875 10.15625 \r\nQ 24.75 6.390625 31.78125 6.390625 \r\nQ 38.8125 6.390625 42.859375 10.171875 \r\nQ 46.921875 13.96875 46.921875 20.515625 \r\nQ 46.921875 27.09375 42.890625 30.859375 \r\nQ 38.875 34.625 31.78125 34.625 \r\nz\r\nM 21.921875 38.8125 \r\nQ 15.578125 40.375 12.03125 44.71875 \r\nQ 8.5 49.078125 8.5 55.328125 \r\nQ 8.5 64.0625 14.71875 69.140625 \r\nQ 20.953125 74.21875 31.78125 74.21875 \r\nQ 42.671875 74.21875 48.875 69.140625 \r\nQ 55.078125 64.0625 55.078125 55.328125 \r\nQ 55.078125 49.078125 51.53125 44.71875 \r\nQ 48 40.375 41.703125 38.8125 \r\nQ 48.828125 37.15625 52.796875 32.3125 \r\nQ 56.78125 27.484375 56.78125 20.515625 \r\nQ 56.78125 9.90625 50.3125 4.234375 \r\nQ 43.84375 -1.421875 31.78125 -1.421875 \r\nQ 19.734375 -1.421875 13.25 4.234375 \r\nQ 6.78125 9.90625 6.78125 20.515625 \r\nQ 6.78125 27.484375 10.78125 32.3125 \r\nQ 14.796875 37.15625 21.921875 38.8125 \r\nz\r\nM 18.3125 54.390625 \r\nQ 18.3125 48.734375 21.84375 45.5625 \r\nQ 25.390625 42.390625 31.78125 42.390625 \r\nQ 38.140625 42.390625 41.71875 45.5625 \r\nQ 45.3125 48.734375 45.3125 54.390625 \r\nQ 45.3125 60.0625 41.71875 63.234375 \r\nQ 38.140625 66.40625 31.78125 66.40625 \r\nQ 25.390625 66.40625 21.84375 63.234375 \r\nQ 18.3125 60.0625 18.3125 54.390625 \r\nz\r\n\" id=\"DejaVuSans-56\"/>\r\n      </defs>\r\n      <g transform=\"translate(27.240625 113.689414)scale(0.1 -0.1)\">\r\n       <use xlink:href=\"#DejaVuSans-56\"/>\r\n       <use x=\"63.623047\" xlink:href=\"#DejaVuSans-48\"/>\r\n      </g>\r\n     </g>\r\n    </g>\r\n    <g id=\"ytick_6\">\r\n     <g id=\"line2d_13\">\r\n      <g>\r\n       <use style=\"stroke:#000000;stroke-width:0.8;\" x=\"46.965625\" xlink:href=\"#m3b94385353\" y=\"83.673653\"/>\r\n      </g>\r\n     </g>\r\n     <g id=\"text_14\">\r\n      <!-- 100 -->\r\n      <g transform=\"translate(20.878125 87.472872)scale(0.1 -0.1)\">\r\n       <use xlink:href=\"#DejaVuSans-49\"/>\r\n       <use x=\"63.623047\" xlink:href=\"#DejaVuSans-48\"/>\r\n       <use x=\"127.246094\" xlink:href=\"#DejaVuSans-48\"/>\r\n      </g>\r\n     </g>\r\n    </g>\r\n    <g id=\"ytick_7\">\r\n     <g id=\"line2d_14\">\r\n      <g>\r\n       <use style=\"stroke:#000000;stroke-width:0.8;\" x=\"46.965625\" xlink:href=\"#m3b94385353\" y=\"57.457111\"/>\r\n      </g>\r\n     </g>\r\n     <g id=\"text_15\">\r\n      <!-- 120 -->\r\n      <g transform=\"translate(20.878125 61.25633)scale(0.1 -0.1)\">\r\n       <use xlink:href=\"#DejaVuSans-49\"/>\r\n       <use x=\"63.623047\" xlink:href=\"#DejaVuSans-50\"/>\r\n       <use x=\"127.246094\" xlink:href=\"#DejaVuSans-48\"/>\r\n      </g>\r\n     </g>\r\n    </g>\r\n    <g id=\"ytick_8\">\r\n     <g id=\"line2d_15\">\r\n      <g>\r\n       <use style=\"stroke:#000000;stroke-width:0.8;\" x=\"46.965625\" xlink:href=\"#m3b94385353\" y=\"31.240569\"/>\r\n      </g>\r\n     </g>\r\n     <g id=\"text_16\">\r\n      <!-- 140 -->\r\n      <g transform=\"translate(20.878125 35.039788)scale(0.1 -0.1)\">\r\n       <use xlink:href=\"#DejaVuSans-49\"/>\r\n       <use x=\"63.623047\" xlink:href=\"#DejaVuSans-52\"/>\r\n       <use x=\"127.246094\" xlink:href=\"#DejaVuSans-48\"/>\r\n      </g>\r\n     </g>\r\n    </g>\r\n    <g id=\"text_17\">\r\n     <!-- rain(mm) -->\r\n     <defs>\r\n      <path d=\"M 41.109375 46.296875 \r\nQ 39.59375 47.171875 37.8125 47.578125 \r\nQ 36.03125 48 33.890625 48 \r\nQ 26.265625 48 22.1875 43.046875 \r\nQ 18.109375 38.09375 18.109375 28.8125 \r\nL 18.109375 0 \r\nL 9.078125 0 \r\nL 9.078125 54.6875 \r\nL 18.109375 54.6875 \r\nL 18.109375 46.1875 \r\nQ 20.953125 51.171875 25.484375 53.578125 \r\nQ 30.03125 56 36.53125 56 \r\nQ 37.453125 56 38.578125 55.875 \r\nQ 39.703125 55.765625 41.0625 55.515625 \r\nz\r\n\" id=\"DejaVuSans-114\"/>\r\n      <path d=\"M 9.421875 54.6875 \r\nL 18.40625 54.6875 \r\nL 18.40625 0 \r\nL 9.421875 0 \r\nz\r\nM 9.421875 75.984375 \r\nL 18.40625 75.984375 \r\nL 18.40625 64.59375 \r\nL 9.421875 64.59375 \r\nz\r\n\" id=\"DejaVuSans-105\"/>\r\n      <path d=\"M 31 75.875 \r\nQ 24.46875 64.65625 21.28125 53.65625 \r\nQ 18.109375 42.671875 18.109375 31.390625 \r\nQ 18.109375 20.125 21.3125 9.0625 \r\nQ 24.515625 -2 31 -13.1875 \r\nL 23.1875 -13.1875 \r\nQ 15.875 -1.703125 12.234375 9.375 \r\nQ 8.59375 20.453125 8.59375 31.390625 \r\nQ 8.59375 42.28125 12.203125 53.3125 \r\nQ 15.828125 64.359375 23.1875 75.875 \r\nz\r\n\" id=\"DejaVuSans-40\"/>\r\n      <path d=\"M 8.015625 75.875 \r\nL 15.828125 75.875 \r\nQ 23.140625 64.359375 26.78125 53.3125 \r\nQ 30.421875 42.28125 30.421875 31.390625 \r\nQ 30.421875 20.453125 26.78125 9.375 \r\nQ 23.140625 -1.703125 15.828125 -13.1875 \r\nL 8.015625 -13.1875 \r\nQ 14.5 -2 17.703125 9.0625 \r\nQ 20.90625 20.125 20.90625 31.390625 \r\nQ 20.90625 42.671875 17.703125 53.65625 \r\nQ 14.5 64.65625 8.015625 75.875 \r\nz\r\n\" id=\"DejaVuSans-41\"/>\r\n     </defs>\r\n     <g transform=\"translate(14.798438 139.239531)rotate(-90)scale(0.1 -0.1)\">\r\n      <use xlink:href=\"#DejaVuSans-114\"/>\r\n      <use x=\"41.113281\" xlink:href=\"#DejaVuSans-97\"/>\r\n      <use x=\"102.392578\" xlink:href=\"#DejaVuSans-105\"/>\r\n      <use x=\"130.175781\" xlink:href=\"#DejaVuSans-110\"/>\r\n      <use x=\"193.554688\" xlink:href=\"#DejaVuSans-40\"/>\r\n      <use x=\"232.568359\" xlink:href=\"#DejaVuSans-109\"/>\r\n      <use x=\"329.980469\" xlink:href=\"#DejaVuSans-109\"/>\r\n      <use x=\"427.392578\" xlink:href=\"#DejaVuSans-41\"/>\r\n     </g>\r\n    </g>\r\n   </g>\r\n   <g id=\"line2d_16\">\r\n    <path clip-path=\"url(#pd82058368e)\" d=\"M 62.183807 214.756364 \r\nL 72.329261 214.756364 \r\nL 82.474716 214.756364 \r\nL 92.62017 214.756364 \r\nL 102.765625 214.756364 \r\nL 112.91108 214.756364 \r\nL 123.056534 214.756364 \r\nL 133.201989 214.756364 \r\nL 143.347443 214.756364 \r\nL 153.492898 214.756364 \r\nL 163.638352 214.756364 \r\nL 173.783807 214.756364 \r\nL 183.929261 214.756364 \r\nL 194.074716 214.756364 \r\nL 204.22017 214.756364 \r\nL 214.365625 214.756364 \r\nL 224.51108 109.62803 \r\nL 234.656534 17.083636 \r\nL 244.801989 180.674859 \r\nL 254.947443 190.37498 \r\nL 265.092898 214.756364 \r\nL 275.238352 202.172423 \r\nL 285.383807 205.842739 \r\nL 295.529261 214.756364 \r\nL 305.674716 214.756364 \r\nL 315.82017 207.153566 \r\nL 325.965625 214.756364 \r\nL 336.11108 214.756364 \r\nL 346.256534 214.756364 \r\nL 356.401989 214.756364 \r\nL 366.547443 214.756364 \r\n\" style=\"fill:none;stroke:#1f77b4;stroke-linecap:square;stroke-width:1.5;\"/>\r\n   </g>\r\n   <g id=\"line2d_17\">\r\n    <path clip-path=\"url(#pd82058368e)\" d=\"M 62.183807 202.690165 \r\nL 72.329261 200.927871 \r\nL 82.474716 205.661977 \r\nL 92.62017 204.055767 \r\nL 102.765625 204.930696 \r\nL 112.91108 204.534986 \r\nL 123.056534 206.279266 \r\nL 133.201989 203.286958 \r\nL 143.347443 203.323223 \r\nL 153.492898 204.624678 \r\nL 163.638352 205.174698 \r\nL 173.783807 204.664099 \r\nL 183.929261 205.74714 \r\nL 194.074716 203.842592 \r\nL 204.22017 203.47125 \r\nL 214.365625 202.41481 \r\nL 224.51108 202.26522 \r\nL 234.656534 199.695361 \r\nL 244.801989 201.50208 \r\nL 254.947443 205.409687 \r\nL 265.092898 206.582338 \r\nL 275.238352 204.39934 \r\nL 285.383807 204.421763 \r\nL 295.529261 205.132865 \r\nL 305.674716 204.950174 \r\nL 315.82017 205.544225 \r\nL 325.965625 207.782918 \r\nL 336.11108 203.498324 \r\nL 346.256534 207.827764 \r\nL 356.401989 206.784145 \r\nL 366.547443 204.438492 \r\n\" style=\"fill:none;stroke:#ff7f0e;stroke-linecap:square;stroke-width:1.5;\"/>\r\n   </g>\r\n   <g id=\"patch_3\">\r\n    <path d=\"M 46.965625 224.64 \r\nL 46.965625 7.2 \r\n\" style=\"fill:none;stroke:#000000;stroke-linecap:square;stroke-linejoin:miter;stroke-width:0.8;\"/>\r\n   </g>\r\n   <g id=\"patch_4\">\r\n    <path d=\"M 381.765625 224.64 \r\nL 381.765625 7.2 \r\n\" style=\"fill:none;stroke:#000000;stroke-linecap:square;stroke-linejoin:miter;stroke-width:0.8;\"/>\r\n   </g>\r\n   <g id=\"patch_5\">\r\n    <path d=\"M 46.965625 224.64 \r\nL 381.765625 224.64 \r\n\" style=\"fill:none;stroke:#000000;stroke-linecap:square;stroke-linejoin:miter;stroke-width:0.8;\"/>\r\n   </g>\r\n   <g id=\"patch_6\">\r\n    <path d=\"M 46.965625 7.2 \r\nL 381.765625 7.2 \r\n\" style=\"fill:none;stroke:#000000;stroke-linecap:square;stroke-linejoin:miter;stroke-width:0.8;\"/>\r\n   </g>\r\n   <g id=\"legend_1\">\r\n    <g id=\"patch_7\">\r\n     <path d=\"M 294.651563 44.55625 \r\nL 374.765625 44.55625 \r\nQ 376.765625 44.55625 376.765625 42.55625 \r\nL 376.765625 14.2 \r\nQ 376.765625 12.2 374.765625 12.2 \r\nL 294.651563 12.2 \r\nQ 292.651563 12.2 292.651563 14.2 \r\nL 292.651563 42.55625 \r\nQ 292.651563 44.55625 294.651563 44.55625 \r\nz\r\n\" style=\"fill:#ffffff;opacity:0.8;stroke:#cccccc;stroke-linejoin:miter;\"/>\r\n    </g>\r\n    <g id=\"line2d_18\">\r\n     <path d=\"M 296.651563 20.298437 \r\nL 316.651563 20.298437 \r\n\" style=\"fill:none;stroke:#1f77b4;stroke-linecap:square;stroke-width:1.5;\"/>\r\n    </g>\r\n    <g id=\"line2d_19\"/>\r\n    <g id=\"text_18\">\r\n     <!-- Observed -->\r\n     <defs>\r\n      <path d=\"M 39.40625 66.21875 \r\nQ 28.65625 66.21875 22.328125 58.203125 \r\nQ 16.015625 50.203125 16.015625 36.375 \r\nQ 16.015625 22.609375 22.328125 14.59375 \r\nQ 28.65625 6.59375 39.40625 6.59375 \r\nQ 50.140625 6.59375 56.421875 14.59375 \r\nQ 62.703125 22.609375 62.703125 36.375 \r\nQ 62.703125 50.203125 56.421875 58.203125 \r\nQ 50.140625 66.21875 39.40625 66.21875 \r\nz\r\nM 39.40625 74.21875 \r\nQ 54.734375 74.21875 63.90625 63.9375 \r\nQ 73.09375 53.65625 73.09375 36.375 \r\nQ 73.09375 19.140625 63.90625 8.859375 \r\nQ 54.734375 -1.421875 39.40625 -1.421875 \r\nQ 24.03125 -1.421875 14.8125 8.828125 \r\nQ 5.609375 19.09375 5.609375 36.375 \r\nQ 5.609375 53.65625 14.8125 63.9375 \r\nQ 24.03125 74.21875 39.40625 74.21875 \r\nz\r\n\" id=\"DejaVuSans-79\"/>\r\n      <path d=\"M 48.6875 27.296875 \r\nQ 48.6875 37.203125 44.609375 42.84375 \r\nQ 40.53125 48.484375 33.40625 48.484375 \r\nQ 26.265625 48.484375 22.1875 42.84375 \r\nQ 18.109375 37.203125 18.109375 27.296875 \r\nQ 18.109375 17.390625 22.1875 11.75 \r\nQ 26.265625 6.109375 33.40625 6.109375 \r\nQ 40.53125 6.109375 44.609375 11.75 \r\nQ 48.6875 17.390625 48.6875 27.296875 \r\nz\r\nM 18.109375 46.390625 \r\nQ 20.953125 51.265625 25.265625 53.625 \r\nQ 29.59375 56 35.59375 56 \r\nQ 45.5625 56 51.78125 48.09375 \r\nQ 58.015625 40.1875 58.015625 27.296875 \r\nQ 58.015625 14.40625 51.78125 6.484375 \r\nQ 45.5625 -1.421875 35.59375 -1.421875 \r\nQ 29.59375 -1.421875 25.265625 0.953125 \r\nQ 20.953125 3.328125 18.109375 8.203125 \r\nL 18.109375 0 \r\nL 9.078125 0 \r\nL 9.078125 75.984375 \r\nL 18.109375 75.984375 \r\nz\r\n\" id=\"DejaVuSans-98\"/>\r\n      <path d=\"M 56.203125 29.59375 \r\nL 56.203125 25.203125 \r\nL 14.890625 25.203125 \r\nQ 15.484375 15.921875 20.484375 11.0625 \r\nQ 25.484375 6.203125 34.421875 6.203125 \r\nQ 39.59375 6.203125 44.453125 7.46875 \r\nQ 49.3125 8.734375 54.109375 11.28125 \r\nL 54.109375 2.78125 \r\nQ 49.265625 0.734375 44.1875 -0.34375 \r\nQ 39.109375 -1.421875 33.890625 -1.421875 \r\nQ 20.796875 -1.421875 13.15625 6.1875 \r\nQ 5.515625 13.8125 5.515625 26.8125 \r\nQ 5.515625 40.234375 12.765625 48.109375 \r\nQ 20.015625 56 32.328125 56 \r\nQ 43.359375 56 49.78125 48.890625 \r\nQ 56.203125 41.796875 56.203125 29.59375 \r\nz\r\nM 47.21875 32.234375 \r\nQ 47.125 39.59375 43.09375 43.984375 \r\nQ 39.0625 48.390625 32.421875 48.390625 \r\nQ 24.90625 48.390625 20.390625 44.140625 \r\nQ 15.875 39.890625 15.1875 32.171875 \r\nz\r\n\" id=\"DejaVuSans-101\"/>\r\n      <path d=\"M 2.984375 54.6875 \r\nL 12.5 54.6875 \r\nL 29.59375 8.796875 \r\nL 46.6875 54.6875 \r\nL 56.203125 54.6875 \r\nL 35.6875 0 \r\nL 23.484375 0 \r\nz\r\n\" id=\"DejaVuSans-118\"/>\r\n     </defs>\r\n     <g transform=\"translate(324.651563 23.798437)scale(0.1 -0.1)\">\r\n      <use xlink:href=\"#DejaVuSans-79\"/>\r\n      <use x=\"78.710938\" xlink:href=\"#DejaVuSans-98\"/>\r\n      <use x=\"142.1875\" xlink:href=\"#DejaVuSans-115\"/>\r\n      <use x=\"194.287109\" xlink:href=\"#DejaVuSans-101\"/>\r\n      <use x=\"255.810547\" xlink:href=\"#DejaVuSans-114\"/>\r\n      <use x=\"296.923828\" xlink:href=\"#DejaVuSans-118\"/>\r\n      <use x=\"356.103516\" xlink:href=\"#DejaVuSans-101\"/>\r\n      <use x=\"417.626953\" xlink:href=\"#DejaVuSans-100\"/>\r\n     </g>\r\n    </g>\r\n    <g id=\"line2d_20\">\r\n     <path d=\"M 296.651563 34.976562 \r\nL 316.651563 34.976562 \r\n\" style=\"fill:none;stroke:#ff7f0e;stroke-linecap:square;stroke-width:1.5;\"/>\r\n    </g>\r\n    <g id=\"line2d_21\"/>\r\n    <g id=\"text_19\">\r\n     <!-- predicted -->\r\n     <defs>\r\n      <path d=\"M 18.109375 8.203125 \r\nL 18.109375 -20.796875 \r\nL 9.078125 -20.796875 \r\nL 9.078125 54.6875 \r\nL 18.109375 54.6875 \r\nL 18.109375 46.390625 \r\nQ 20.953125 51.265625 25.265625 53.625 \r\nQ 29.59375 56 35.59375 56 \r\nQ 45.5625 56 51.78125 48.09375 \r\nQ 58.015625 40.1875 58.015625 27.296875 \r\nQ 58.015625 14.40625 51.78125 6.484375 \r\nQ 45.5625 -1.421875 35.59375 -1.421875 \r\nQ 29.59375 -1.421875 25.265625 0.953125 \r\nQ 20.953125 3.328125 18.109375 8.203125 \r\nz\r\nM 48.6875 27.296875 \r\nQ 48.6875 37.203125 44.609375 42.84375 \r\nQ 40.53125 48.484375 33.40625 48.484375 \r\nQ 26.265625 48.484375 22.1875 42.84375 \r\nQ 18.109375 37.203125 18.109375 27.296875 \r\nQ 18.109375 17.390625 22.1875 11.75 \r\nQ 26.265625 6.109375 33.40625 6.109375 \r\nQ 40.53125 6.109375 44.609375 11.75 \r\nQ 48.6875 17.390625 48.6875 27.296875 \r\nz\r\n\" id=\"DejaVuSans-112\"/>\r\n      <path d=\"M 48.78125 52.59375 \r\nL 48.78125 44.1875 \r\nQ 44.96875 46.296875 41.140625 47.34375 \r\nQ 37.3125 48.390625 33.40625 48.390625 \r\nQ 24.65625 48.390625 19.8125 42.84375 \r\nQ 14.984375 37.3125 14.984375 27.296875 \r\nQ 14.984375 17.28125 19.8125 11.734375 \r\nQ 24.65625 6.203125 33.40625 6.203125 \r\nQ 37.3125 6.203125 41.140625 7.25 \r\nQ 44.96875 8.296875 48.78125 10.40625 \r\nL 48.78125 2.09375 \r\nQ 45.015625 0.34375 40.984375 -0.53125 \r\nQ 36.96875 -1.421875 32.421875 -1.421875 \r\nQ 20.0625 -1.421875 12.78125 6.34375 \r\nQ 5.515625 14.109375 5.515625 27.296875 \r\nQ 5.515625 40.671875 12.859375 48.328125 \r\nQ 20.21875 56 33.015625 56 \r\nQ 37.15625 56 41.109375 55.140625 \r\nQ 45.0625 54.296875 48.78125 52.59375 \r\nz\r\n\" id=\"DejaVuSans-99\"/>\r\n     </defs>\r\n     <g transform=\"translate(324.651563 38.476562)scale(0.1 -0.1)\">\r\n      <use xlink:href=\"#DejaVuSans-112\"/>\r\n      <use x=\"63.476562\" xlink:href=\"#DejaVuSans-114\"/>\r\n      <use x=\"102.339844\" xlink:href=\"#DejaVuSans-101\"/>\r\n      <use x=\"163.863281\" xlink:href=\"#DejaVuSans-100\"/>\r\n      <use x=\"227.339844\" xlink:href=\"#DejaVuSans-105\"/>\r\n      <use x=\"255.123047\" xlink:href=\"#DejaVuSans-99\"/>\r\n      <use x=\"310.103516\" xlink:href=\"#DejaVuSans-116\"/>\r\n      <use x=\"349.3125\" xlink:href=\"#DejaVuSans-101\"/>\r\n      <use x=\"410.835938\" xlink:href=\"#DejaVuSans-100\"/>\r\n     </g>\r\n    </g>\r\n   </g>\r\n  </g>\r\n </g>\r\n <defs>\r\n  <clipPath id=\"pd82058368e\">\r\n   <rect height=\"217.44\" width=\"334.8\" x=\"46.965625\" y=\"7.2\"/>\r\n  </clipPath>\r\n </defs>\r\n</svg>\r\n",
      "image/png": "[encoded data removed]"
     },
     "metadata": {
      "needs_background": "light"
     }
    }
   ],
   "source": [
    "import matplotlib.pyplot as plt\n",
    "fig=plt.plot(firstdf.day,firstdf.rain,label=\"Observed\")\n",
    "fig=plt.plot(firstdf.day,pred,label=\"predicted\")\n",
    "# plt.savefig(\"linear_reg.png\")\n",
    "plt.legend()\n",
    "plt.xlabel(\"days of August 2019 Alangayam\")\n",
    "plt.ylabel(\"rain(mm)\")\n",
    "plt.savefig(\"svr.png\",dpi=400)"
   ]
  },
  {
   "cell_type": "code",
   "execution_count": 22,
   "metadata": {},
   "outputs": [
    {
     "output_type": "display_data",
     "data": {
      "text/plain": "<Figure size 432x288 with 0 Axes>"
     },
     "metadata": {}
    },
    {
     "output_type": "display_data",
     "data": {
      "text/plain": "<Figure size 432x288 with 0 Axes>"
     },
     "metadata": {}
    }
   ],
   "source": [
    "plt.draw()\n",
    "plt.show()\n"
   ]
  },
  {
   "cell_type": "code",
   "execution_count": 17,
   "metadata": {},
   "outputs": [
    {
     "output_type": "display_data",
     "data": {
      "text/plain": "<Figure size 432x288 with 0 Axes>"
     },
     "metadata": {}
    }
   ],
   "source": [
    "plt.savefig(\"xgboost.jpeg\")"
   ]
  },
  {
   "cell_type": "code",
   "execution_count": 27,
   "metadata": {},
   "outputs": [
    {
     "output_type": "execute_result",
     "data": {
      "text/plain": [
       "array([[ 0.        ,  0.        ],\n",
       "       [ 0.        ,  0.        ],\n",
       "       [ 1.2       ,  0.        ],\n",
       "       [ 0.        ,  0.        ],\n",
       "       [ 3.6       , 11.59256268],\n",
       "       [ 0.        ,  0.        ],\n",
       "       [ 0.        ,  0.        ],\n",
       "       [ 0.        ,  0.        ],\n",
       "       [ 0.        ,  0.        ],\n",
       "       [13.        ,  3.37072515],\n",
       "       [ 3.2       ,  2.44795179],\n",
       "       [45.4       ,  0.        ],\n",
       "       [ 0.        ,  0.        ],\n",
       "       [ 0.        ,  0.        ],\n",
       "       [ 0.        ,  0.        ],\n",
       "       [ 0.        ,  0.        ],\n",
       "       [49.        , 22.95454025],\n",
       "       [ 3.        ,  4.80077457],\n",
       "       [14.8       ,  3.11541271],\n",
       "       [ 2.9       ,  0.        ],\n",
       "       [ 1.2       ,  0.        ],\n",
       "       [ 0.        ,  0.        ],\n",
       "       [40.2       , 19.51211929],\n",
       "       [ 0.        ,  0.        ],\n",
       "       [ 6.9       ,  3.74354482],\n",
       "       [ 0.        ,  0.        ],\n",
       "       [ 0.        ,  0.        ],\n",
       "       [ 0.        ,  0.        ],\n",
       "       [ 0.        ,  0.        ],\n",
       "       [ 0.        ,  0.        ]])"
      ]
     },
     "metadata": {},
     "execution_count": 27
    }
   ],
   "source": [
    "d={\"orig\":y_test,\"pred_test\":pred}\n",
    "preddf=pd.DataFrame(d)\n",
    "\n",
    "\n",
    "preddf[10:40].values"
   ]
  },
  {
   "cell_type": "code",
   "execution_count": 28,
   "metadata": {},
   "outputs": [
    {
     "output_type": "execute_result",
     "data": {
      "text/plain": [
       "1.5726110230848696"
      ]
     },
     "metadata": {},
     "execution_count": 28
    }
   ],
   "source": [
    "mean_absolute_error(preddf[\"orig\"],preddf[\"pred_test\"])"
   ]
  },
  {
   "cell_type": "code",
   "execution_count": null,
   "metadata": {},
   "outputs": [],
   "source": []
  },
  {
   "cell_type": "code",
   "execution_count": 40,
   "metadata": {},
   "outputs": [],
   "source": [
    "\n",
    "xgb_r.save_model(\"modelsxgb.json\")"
   ]
  },
  {
   "cell_type": "code",
   "execution_count": 6,
   "metadata": {},
   "outputs": [],
   "source": [
    "loadtest = xg.XGBRegressor(objective ='reg:squarederror',    \n",
    "                  n_estimators =3, seed = 123,max_depth=35,eta=0.3)\n",
    "   "
   ]
  },
  {
   "cell_type": "code",
   "execution_count": 7,
   "metadata": {},
   "outputs": [],
   "source": [
    "loadtest.load_model(\"modelsxgb.json\")"
   ]
  },
  {
   "cell_type": "code",
   "execution_count": 19,
   "metadata": {},
   "outputs": [
    {
     "output_type": "stream",
     "name": "stdout",
     "text": [
      "[0, 0, 0, 0, 0, 0, 0, 0, 0, 0, 0, 0, 0, 0, 0, 0, 0, 0, 0, 0, 0, 0, 0, 0, 0, 0, 0, 0, 0]\n"
     ]
    },
    {
     "output_type": "execute_result",
     "data": {
      "text/plain": [
       "0.1742031"
      ]
     },
     "metadata": {},
     "execution_count": 19
    }
   ],
   "source": [
    "import numpy as np\n",
    "tt=[0]*29\n",
    "print(tt)\n",
    "loadtest.predict(np.array([np.array(tt)]))[0]"
   ]
  },
  {
   "cell_type": "code",
   "execution_count": 18,
   "metadata": {},
   "outputs": [
    {
     "output_type": "execute_result",
     "data": {
      "text/plain": [
       "[1, 2, 3, 4, 5, 6]"
      ]
     },
     "metadata": {},
     "execution_count": 18
    }
   ],
   "source": [
    "x=[1,2,3]\n",
    "x.extend([4,5,6])\n",
    "x"
   ]
  },
  {
   "cell_type": "code",
   "execution_count": 19,
   "metadata": {},
   "outputs": [
    {
     "output_type": "stream",
     "name": "stdout",
     "text": [
      "3.527190546339279\n8.215548842550367\n[-0.33275986 -0.27088737 10.4577713  ...  3.31179047  2.35595131\n  5.1163044 ]\n"
     ]
    }
   ],
   "source": [
    "from sklearn.linear_model import LinearRegression\n",
    "reg = LinearRegression().fit(X_train, y_train)\n",
    "predreg=reg.predict(X_test)\n",
    "print(mean_absolute_error(y_test,predreg))\n",
    "print(np.sqrt(mean_squared_error(y_test,predreg)))\n",
    "print(predreg)\n"
   ]
  },
  {
   "cell_type": "code",
   "execution_count": null,
   "metadata": {},
   "outputs": [],
   "source": []
  },
  {
   "cell_type": "code",
   "execution_count": 41,
   "metadata": {},
   "outputs": [],
   "source": [
    "def RAE(a,b):\n",
    "    ans=((a-b)**2).sum()/(a**2).sum()\n",
    "    return ans\n",
    "def RRSE(a,b):\n",
    "    mean=np.mean(a)\n",
    "   \n",
    "    ans=np.sqrt(((a-b)**2).sum()/((mean-a)**2).sum())\n",
    "    return ans"
   ]
  },
  {
   "cell_type": "code",
   "execution_count": 46,
   "metadata": {},
   "outputs": [
    {
     "output_type": "execute_result",
     "data": {
      "text/plain": [
       "0.42879323264673425"
      ]
     },
     "metadata": {},
     "execution_count": 46
    }
   ],
   "source": [
    "a=np.array([3,4,8,10,10])\n",
    "b=np.array([3,4.3,10,10,8])\n",
    "RRSE(a,b)"
   ]
  },
  {
   "cell_type": "code",
   "execution_count": 47,
   "metadata": {},
   "outputs": [
    {
     "output_type": "stream",
     "name": "stdout",
     "text": [
      "1.0897710593270702\n"
     ]
    }
   ],
   "source": [
    "RAE(y_test,predsvr)\n",
    "print(RRSE(y_test,predsvr))"
   ]
  },
  {
   "cell_type": "code",
   "execution_count": 48,
   "metadata": {},
   "outputs": [
    {
     "output_type": "execute_result",
     "data": {
      "text/plain": [
       "0.9591497698479747"
      ]
     },
     "metadata": {},
     "execution_count": 48
    }
   ],
   "source": [
    "RRSE(y_test,predreg)"
   ]
  },
  {
   "cell_type": "code",
   "execution_count": 10,
   "metadata": {},
   "outputs": [
    {
     "output_type": "execute_result",
     "data": {
      "text/plain": [
       "array([[1.        , 0.28293201],\n",
       "       [0.28293201, 1.        ]])"
      ]
     },
     "metadata": {},
     "execution_count": 10
    }
   ],
   "source": [
    "np.corrcoef(y_test,predreg)"
   ]
  },
  {
   "cell_type": "code",
   "execution_count": 27,
   "metadata": {},
   "outputs": [
    {
     "output_type": "execute_result",
     "data": {
      "text/plain": [
       "0.14509525002200235"
      ]
     },
     "metadata": {},
     "execution_count": 27
    }
   ],
   "source": [
    "a=np.array([1,2,3,9])\n",
    "b=np.array([2,2,3,10])\n",
    "np.sqrt(((a-b)**2).sum())/np.sqrt((a**2).sum())"
   ]
  },
  {
   "cell_type": "code",
   "execution_count": 23,
   "metadata": {},
   "outputs": [
    {
     "output_type": "execute_result",
     "data": {
      "text/plain": [
       "2.23606797749979"
      ]
     },
     "metadata": {},
     "execution_count": 23
    }
   ],
   "source": []
  },
  {
   "cell_type": "code",
   "execution_count": 26,
   "metadata": {},
   "outputs": [
    {
     "output_type": "stream",
     "name": "stdout",
     "text": [
      "[ 4.89127949  5.29260638 12.52968965 ...  7.6995444   5.76738849\n",
      "  9.01094963]\n",
      "6.92344100826768\n",
      "9.334389441512773\n",
      "C:\\Users\\om purohit\\anaconda3\\lib\\site-packages\\sklearn\\svm\\_base.py:976: ConvergenceWarning: Liblinear failed to converge, increase the number of iterations.\n",
      "  warnings.warn(\"Liblinear failed to converge, increase \"\n"
     ]
    }
   ],
   "source": [
    "from sklearn.svm import LinearSVR\n",
    "eps = 5\n",
    "np.random.seed(2)\n",
    "import time as time\n",
    "\n",
    "svr = LinearSVR(epsilon=eps, C=0.1,)\n",
    "a=time.time()\n",
    "svr.fit(X_train,y_train)\n",
    "b=time.time()\n",
    "\n",
    "predsvr=svr.predict(X_test)\n",
    "print(predsvr)\n",
    "for i in range(len(predsvr)):\n",
    "    if predsvr[i]<1:\n",
    "        predsvr[i]=0\n",
    "print(mean_absolute_error(y_test,predsvr))\n",
    "print(np.sqrt(mean_squared_error(y_test,predsvr)))\n"
   ]
  },
  {
   "cell_type": "code",
   "execution_count": 12,
   "metadata": {},
   "outputs": [
    {
     "output_type": "execute_result",
     "data": {
      "text/plain": [
       "array([[1.        , 0.27942069],\n",
       "       [0.27942069, 1.        ]])"
      ]
     },
     "metadata": {},
     "execution_count": 12
    }
   ],
   "source": [
    "np.corrcoef(y_test,predsvr)"
   ]
  },
  {
   "cell_type": "code",
   "execution_count": 41,
   "metadata": {},
   "outputs": [],
   "source": [
    "import pickle\n",
    "\n",
    "with open('DayMon.json', 'wb') as fp:\n",
    "    pickle.dump(MonDay, fp)"
   ]
  },
  {
   "cell_type": "code",
   "execution_count": 2,
   "metadata": {},
   "outputs": [],
   "source": [
    "import pickle\n",
    "with open(\"DayMon.json\",\"rb\") as fp:\n",
    "    toprint=pickle.load(fp)"
   ]
  },
  {
   "cell_type": "code",
   "execution_count": 3,
   "metadata": {},
   "outputs": [
    {
     "output_type": "execute_result",
     "data": {
      "text/plain": [
       "ill_15_3', 'Ponnai_15_3', 'Katpadi_16_3', 'Natrampalli_16_3', 'TCS Mill_16_3', 'ACS Mill_16_3', 'VCS Mill_16_3', 'Ponnai_16_3', 'Katpadi_17_3', 'Natrampalli_17_3', 'TCS Mill_17_3', 'ACS Mill_17_3', 'VCS Mill_17_3', 'Ponnai_17_3', 'Katpadi_18_3', 'Natrampalli_18_3', 'TCS Mill_18_3', 'ACS Mill_18_3', 'VCS Mill_18_3', 'Ponnai_18_3', 'Katpadi_19_3', 'Natrampalli_19_3', 'TCS Mill_19_3', 'ACS Mill_19_3', 'VCS Mill_19_3', 'Ponnai_19_3', 'Katpadi_20_3', 'Natrampalli_20_3', 'TCS Mill_20_3', 'ACS Mill_20_3', 'VCS Mill_20_3', 'Ponnai_20_3', 'Katpadi_21_3', 'Natrampalli_21_3', 'TCS Mill_21_3', 'ACS Mill_21_3', 'VCS Mill_21_3', 'Ponnai_21_3', 'Katpadi_22_3', 'Natrampalli_22_3', 'TCS Mill_22_3', 'ACS Mill_22_3', 'VCS Mill_22_3', 'Ponnai_22_3', 'Katpadi_23_3', 'Natrampalli_23_3', 'TCS Mill_23_3', 'ACS Mill_23_3', 'VCS Mill_23_3', 'Ponnai_23_3', 'Katpadi_24_3', 'Natrampalli_24_3', 'TCS Mill_24_3', 'ACS Mill_24_3', 'VCS Mill_24_3', 'Ponnai_24_3', 'Katpadi_25_3', 'Natrampalli_25_3', 'TCS Mill_25_3', 'ACS Mill_25_3', 'VCS Mill_25_3', 'Ponnai_25_3', 'Katpadi_26_3', 'Natrampalli_26_3', 'TCS Mill_26_3', 'ACS Mill_26_3', 'VCS Mill_26_3', 'Ponnai_26_3', 'Katpadi_27_3', 'Natrampalli_27_3', 'TCS Mill_27_3', 'ACS Mill_27_3', 'VCS Mill_27_3', 'Ponnai_27_3', 'Katpadi_28_3', 'Natrampalli_28_3', 'TCS Mill_28_3', 'ACS Mill_28_3', 'VCS Mill_28_3', 'Ponnai_28_3', 'Katpadi_29_3', 'Natrampalli_29_3', 'TCS Mill_29_3', 'ACS Mill_29_3', 'VCS Mill_29_3', 'Ponnai_29_3', 'Katpadi_30_3', 'Natrampalli_30_3', 'TCS Mill_30_3', 'ACS Mill_30_3', 'VCS Mill_30_3', 'Ponnai_30_3', 'Katpadi_31_3', 'Natrampalli_31_3', 'TCS Mill_31_3', 'ACS Mill_31_3', 'VCS Mill_31_3', 'Ponnai_31_3', 'Katpadi_1_4', 'Natrampalli_1_4', 'TCS Mill_1_4', 'ACS Mill_1_4', 'VCS Mill_1_4', 'Ponnai_1_4', 'Katpadi_2_4', 'Natrampalli_2_4', 'TCS Mill_2_4', 'ACS Mill_2_4', 'VCS Mill_2_4', 'Ponnai_2_4', 'Katpadi_3_4', 'Natrampalli_3_4', 'TCS Mill_3_4', 'ACS Mill_3_4', 'VCS Mill_3_4', 'Ponnai_3_4', 'Katpadi_4_4', 'Natrampalli_4_4', 'TCS Mill_4_4', 'ACS Mill_4_4', 'VCS Mill_4_4', 'Ponnai_4_4', 'Katpadi_5_4', 'Natrampalli_5_4', 'TCS Mill_5_4', 'ACS Mill_5_4', 'VCS Mill_5_4', 'Ponnai_5_4', 'Katpadi_6_4', 'Natrampalli_6_4', 'TCS Mill_6_4', 'ACS Mill_6_4', 'VCS Mill_6_4', 'Ponnai_6_4', 'Katpadi_7_4', 'Natrampalli_7_4', 'TCS Mill_7_4', 'ACS Mill_7_4', 'VCS Mill_7_4', 'Ponnai_7_4', 'Katpadi_8_4', 'Natrampalli_8_4', 'TCS Mill_8_4', 'ACS Mill_8_4', 'VCS Mill_8_4', 'Ponnai_8_4', 'Katpadi_9_4', 'Natrampalli_9_4', 'TCS Mill_9_4', 'ACS Mill_9_4', 'VCS Mill_9_4', 'Ponnai_9_4', 'Katpadi_10_4', 'Natrampalli_10_4', 'TCS Mill_10_4', 'ACS Mill_10_4', 'VCS Mill_10_4', 'Ponnai_10_4', 'Katpadi_11_4', 'Natrampalli_11_4', 'TCS Mill_11_4', 'ACS Mill_11_4', 'VCS Mill_11_4', 'Ponnai_11_4', 'Katpadi_12_4', 'Natrampalli_12_4', 'TCS Mill_12_4', 'ACS Mill_12_4', 'VCS Mill_12_4', 'Ponnai_12_4', 'Katpadi_13_4', 'Natrampalli_13_4', 'TCS Mill_13_4', 'ACS Mill_13_4', 'VCS Mill_13_4', 'Ponnai_13_4', 'Katpadi_14_4', 'Natrampalli_14_4', 'TCS Mill_14_4', 'ACS Mill_14_4', 'VCS Mill_14_4', 'Ponnai_14_4', 'Katpadi_15_4', 'Natrampalli_15_4', 'TCS Mill_15_4', 'ACS Mill_15_4', 'VCS Mill_15_4', 'Ponnai_15_4', 'Katpadi_16_4', 'Natrampalli_16_4', 'TCS Mill_16_4', 'ACS Mill_16_4', 'VCS Mill_16_4', 'Ponnai_16_4', 'Katpadi_17_4', 'Natrampalli_17_4', 'TCS Mill_17_4', 'ACS Mill_17_4', 'VCS Mill_17_4', 'Ponnai_17_4', 'Katpadi_18_4', 'Natrampalli_18_4', 'TCS Mill_18_4', 'ACS Mill_18_4', 'VCS Mill_18_4', 'Ponnai_18_4', 'Katpadi_19_4', 'Natrampalli_19_4', 'TCS Mill_19_4', 'ACS Mill_19_4', 'VCS Mill_19_4', 'Ponnai_19_4', 'Katpadi_20_4', 'Natrampalli_20_4', 'TCS Mill_20_4', 'ACS Mill_20_4', 'VCS Mill_20_4', 'Ponnai_20_4', 'Katpadi_21_4', 'Natrampalli_21_4', 'TCS Mill_21_4', 'ACS Mill_21_4', 'VCS Mill_21_4', 'Ponnai_21_4', 'Katpadi_22_4', 'Natrampalli_22_4', 'TCS Mill_22_4', 'ACS Mill_22_4', 'VCS Mill_22_4', 'Ponnai_22_4', 'Katpadi_23_4', 'Natrampalli_23_4', 'TCS Mill_23_4', 'ACS Mill_23_4', 'VCS Mill_23_4', 'Ponnai_23_4', 'Katpadi_24_4', 'Natrampalli_24_4', 'TCS Mill_24_4', 'ACS Mill_24_4', 'VCS Mill_24_4', 'Ponnai_24_4', 'Katpadi_25_4', 'Natrampalli_25_4', 'TCS Mill_25_4', 'ACS Mill_25_4', 'VCS Mill_25_4', 'Ponnai_25_4', 'Katpadi_26_4', 'Natrampalli_26_4', 'TCS Mill_26_4', 'ACS Mill_26_4', 'VCS Mill_26_4', 'Ponnai_26_4', 'Katpadi_27_4', 'Natrampalli_27_4', 'TCS Mill_27_4', 'ACS Mill_27_4', 'VCS Mill_27_4', 'Ponnai_27_4', 'Katpadi_28_4', 'Natrampalli_28_4', 'TCS Mill_28_4', 'ACS Mill_28_4', 'VCS Mill_28_4', 'Ponnai_28_4', 'Katpadi_29_4', 'Natrampalli_29_4', 'TCS Mill_29_4', 'ACS Mill_29_4', 'VCS Mill_29_4', 'Ponnai_29_4', 'Katpadi_30_4', 'Natrampalli_30_4', 'TCS Mill_30_4', 'ACS Mill_30_4', 'VCS Mill_30_4', 'Ponnai_30_4', 'Katpadi_1_5', 'Natrampalli_1_5', 'TCS Mill_1_5', 'ACS Mill_1_5', 'VCS Mill_1_5', 'Ponnai_1_5', 'Katpadi_2_5', 'Natrampalli_2_5', 'TCS Mill_2_5', 'ACS Mill_2_5', 'VCS Mill_2_5', 'Ponnai_2_5', 'Katpadi_3_5', 'Natrampalli_3_5', 'TCS Mill_3_5', 'ACS Mill_3_5', 'VCS Mill_3_5', 'Ponnai_3_5', 'Katpadi_4_5', 'Natrampalli_4_5', 'TCS Mill_4_5', 'ACS Mill_4_5', 'VCS Mill_4_5', 'Ponnai_4_5', 'Katpadi_5_5', 'Natrampalli_5_5', 'TCS Mill_5_5', 'ACS Mill_5_5', 'VCS Mill_5_5', 'Ponnai_5_5', 'Katpadi_6_5', 'Natrampalli_6_5', 'TCS Mill_6_5', 'ACS Mill_6_5', 'VCS Mill_6_5', 'Ponnai_6_5', 'Katpadi_7_5', 'Natrampalli_7_5', 'TCS Mill_7_5', 'ACS Mill_7_5', 'VCS Mill_7_5', 'Ponnai_7_5', 'Katpadi_8_5', 'Natrampalli_8_5', 'TCS Mill_8_5', 'ACS Mill_8_5', 'VCS Mill_8_5', 'Ponnai_8_5', 'Katpadi_9_5', 'Natrampalli_9_5', 'TCS Mill_9_5', 'ACS Mill_9_5', 'VCS Mill_9_5', 'Ponnai_9_5', 'Katpadi_10_5', 'Natrampalli_10_5', 'TCS Mill_10_5', 'ACS Mill_10_5', 'VCS Mill_10_5', 'Ponnai_10_5', 'Katpadi_11_5', 'Natrampalli_11_5', 'TCS Mill_11_5', 'ACS Mill_11_5', 'VCS Mill_11_5', 'Ponnai_11_5', 'Katpadi_12_5', 'Natrampalli_12_5', 'TCS Mill_12_5', 'ACS Mill_12_5', 'VCS Mill_12_5', 'Ponnai_12_5', 'Katpadi_13_5', 'Natrampalli_13_5', 'TCS Mill_13_5', 'ACS Mill_13_5', 'VCS Mill_13_5', 'Ponnai_13_5', 'Katpadi_14_5', 'Natrampalli_14_5', 'TCS Mill_14_5', 'ACS Mill_14_5', 'VCS Mill_14_5', 'Ponnai_14_5', 'Katpadi_15_5', 'Natrampalli_15_5', 'TCS Mill_15_5', 'ACS Mill_15_5', 'VCS Mill_15_5', 'Ponnai_15_5', 'Katpadi_16_5', 'Natrampalli_16_5', 'TCS Mill_16_5', 'ACS Mill_16_5', 'VCS Mill_16_5', 'Ponnai_16_5', 'Katpadi_17_5', 'Natrampalli_17_5', 'TCS Mill_17_5', 'ACS Mill_17_5', 'VCS Mill_17_5', 'Ponnai_17_5', 'Katpadi_18_5', 'Natrampalli_18_5', 'TCS Mill_18_5', 'ACS Mill_18_5', 'VCS Mill_18_5', 'Ponnai_18_5', 'Katpadi_19_5', 'Natrampalli_19_5', 'TCS Mill_19_5', 'ACS Mill_19_5', 'VCS Mill_19_5', 'Ponnai_19_5', 'Katpadi_20_5', 'Natrampalli_20_5', 'TCS Mill_20_5', 'ACS Mill_20_5', 'VCS Mill_20_5', 'Ponnai_20_5', 'Katpadi_21_5', 'Natrampalli_21_5', 'TCS Mill_21_5', 'ACS Mill_21_5', 'VCS Mill_21_5', 'Ponnai_21_5', 'Katpadi_22_5', 'Natrampalli_22_5', 'TCS Mill_22_5', 'ACS Mill_22_5', 'VCS Mill_22_5', 'Ponnai_22_5', 'Katpadi_23_5', 'Natrampalli_23_5', 'TCS Mill_23_5', 'ACS Mill_23_5', 'VCS Mill_23_5', 'Ponnai_23_5', 'Katpadi_24_5', 'Natrampalli_24_5', 'TCS Mill_24_5', 'ACS Mill_24_5', 'VCS Mill_24_5', 'Ponnai_24_5', 'Katpadi_25_5', 'Natrampalli_25_5', 'TCS Mill_25_5', 'ACS Mill_25_5', 'VCS Mill_25_5', 'Ponnai_25_5', 'Katpadi_26_5', 'Natrampalli_26_5', 'TCS Mill_26_5', 'ACS Mill_26_5', 'VCS Mill_26_5', 'Ponnai_26_5', 'Katpadi_27_5', 'Natrampalli_27_5', 'TCS Mill_27_5', 'ACS Mill_27_5', 'VCS Mill_27_5', 'Ponnai_27_5', 'Katpadi_28_5', 'Natrampalli_28_5', 'TCS Mill_28_5', 'ACS Mill_28_5', 'VCS Mill_28_5', 'Ponnai_28_5', 'Katpadi_29_5', 'Natrampalli_29_5', 'TCS Mill_29_5', 'ACS Mill_29_5', 'VCS Mill_29_5', 'Ponnai_29_5', 'Katpadi_30_5', 'Natrampalli_30_5', 'TCS Mill_30_5', 'ACS Mill_30_5', 'VCS Mill_30_5', 'Ponnai_30_5', 'Katpadi_31_5', 'Natrampalli_31_5', 'TCS Mill_31_5', 'ACS Mill_31_5', 'VCS Mill_31_5', 'Ponnai_31_5', 'Katpadi_1_6', 'Natrampalli_1_6', 'TCS Mill_1_6', 'ACS Mill_1_6', 'VCS Mill_1_6', 'Ponnai_1_6', 'Katpadi_2_6', 'Natrampalli_2_6', 'TCS Mill_2_6', 'ACS Mill_2_6', 'VCS Mill_2_6', 'Ponnai_2_6', 'Katpadi_3_6', 'Natrampalli_3_6', 'TCS Mill_3_6', 'ACS Mill_3_6', 'VCS Mill_3_6', 'Ponnai_3_6', 'Katpadi_4_6', 'Natrampalli_4_6', 'TCS Mill_4_6', 'ACS Mill_4_6', 'VCS Mill_4_6', 'Ponnai_4_6', 'Katpadi_5_6', 'Natrampalli_5_6', 'TCS Mill_5_6', 'ACS Mill_5_6', 'VCS Mill_5_6', 'Ponnai_5_6', 'Katpadi_6_6', 'Natrampalli_6_6', 'TCS Mill_6_6', 'ACS Mill_6_6', 'VCS Mill_6_6', 'Ponnai_6_6', 'Katpadi_7_6', 'Natrampalli_7_6', 'TCS Mill_7_6', 'ACS Mill_7_6', 'VCS Mill_7_6', 'Ponnai_7_6', 'Katpadi_8_6', 'Natrampalli_8_6', 'TCS Mill_8_6', 'ACS Mill_8_6', 'VCS Mill_8_6', 'Ponnai_8_6', 'Katpadi_9_6', 'Natrampalli_9_6', 'TCS Mill_9_6', 'ACS Mill_9_6', 'VCS Mill_9_6', 'Ponnai_9_6', 'Katpadi_10_6', 'Natrampalli_10_6', 'TCS Mill_10_6', 'ACS Mill_10_6', 'VCS Mill_10_6', 'Ponnai_10_6', 'Katpadi_11_6', 'Natrampalli_11_6', 'TCS Mill_11_6', 'ACS Mill_11_6', 'VCS Mill_11_6', 'Ponnai_11_6', 'Katpadi_12_6', 'Natrampalli_12_6', 'TCS Mill_12_6', 'ACS Mill_12_6', 'VCS Mill_12_6', 'Ponnai_12_6', 'Katpadi_13_6', 'Natrampalli_13_6', 'TCS Mill_13_6', 'ACS Mill_13_6', 'VCS Mill_13_6', 'Ponnai_13_6', 'Katpadi_14_6', 'Natrampalli_14_6', 'TCS Mill_14_6', 'ACS Mill_14_6', 'VCS Mill_14_6', 'Ponnai_14_6', 'Katpadi_15_6', 'Natrampalli_15_6', 'TCS Mill_15_6', 'ACS Mill_15_6', 'VCS Mill_15_6', 'Ponnai_15_6', 'Katpadi_16_6', 'Natrampalli_16_6', 'TCS Mill_16_6', 'ACS Mill_16_6', 'VCS Mill_16_6', 'Ponnai_16_6', 'Katpadi_17_6', 'Natrampalli_17_6', 'TCS Mill_17_6', 'ACS Mill_17_6', 'VCS Mill_17_6', 'Ponnai_17_6', 'Katpadi_18_6', 'Natrampalli_18_6', 'TCS Mill_18_6', 'ACS Mill_18_6', 'VCS Mill_18_6', 'Ponnai_18_6', 'Katpadi_19_6', 'Natrampalli_19_6', 'TCS Mill_19_6', 'ACS Mill_19_6', 'VCS Mill_19_6', 'Ponnai_19_6', 'Katpadi_20_6', 'Natrampalli_20_6', 'TCS Mill_20_6', 'ACS Mill_20_6', 'VCS Mill_20_6', 'Ponnai_20_6', 'Katpadi_21_6', 'Natrampalli_21_6', 'TCS Mill_21_6', 'ACS Mill_21_6', 'VCS Mill_21_6', 'Ponnai_21_6', 'Katpadi_22_6', 'Natrampalli_22_6', 'TCS Mill_22_6', 'ACS Mill_22_6', 'VCS Mill_22_6', 'Ponnai_22_6', 'Katpadi_23_6', 'Natrampalli_23_6', 'TCS Mill_23_6', 'ACS Mill_23_6', 'VCS Mill_23_6', 'Ponnai_23_6', 'Katpadi_24_6', 'Natrampalli_24_6', 'TCS Mill_24_6', 'ACS Mill_24_6', 'VCS Mill_24_6', 'Ponnai_24_6', 'Katpadi_25_6', 'Natrampalli_25_6', 'TCS Mill_25_6', 'ACS Mill_25_6', 'VCS Mill_25_6', 'Ponnai_25_6', 'Katpadi_26_6', 'Natrampalli_26_6', 'TCS Mill_26_6', 'ACS Mill_26_6', 'VCS Mill_26_6', 'Ponnai_26_6', 'Katpadi_27_6', 'Natrampalli_27_6', 'TCS Mill_27_6', 'ACS Mill_27_6', 'VCS Mill_27_6', 'Ponnai_27_6', 'Katpadi_28_6', 'Natrampalli_28_6', 'TCS Mill_28_6', 'ACS Mill_28_6', 'VCS Mill_28_6', 'Ponnai_28_6', 'Katpadi_29_6', 'Natrampalli_29_6', 'TCS Mill_29_6', 'ACS Mill_29_6', 'VCS Mill_29_6', 'Ponnai_29_6', 'Katpadi_30_6', 'Natrampalli_30_6', 'TCS Mill_30_6', 'ACS Mill_30_6', 'VCS Mill_30_6', 'Ponnai_30_6', 'Katpadi_1_7', 'Natrampalli_1_7', 'TCS Mill_1_7', 'ACS Mill_1_7', 'VCS Mill_1_7', 'Ponnai_1_7', 'Katpadi_2_7', 'Natrampalli_2_7', 'TCS Mill_2_7', 'ACS Mill_2_7', 'VCS Mill_2_7', 'Ponnai_2_7', 'Katpadi_3_7', 'Natrampalli_3_7', 'TCS Mill_3_7', 'ACS Mill_3_7', 'VCS Mill_3_7', 'Ponnai_3_7', 'Katpadi_4_7', 'Natrampalli_4_7', 'TCS Mill_4_7', 'ACS Mill_4_7', 'VCS Mill_4_7', 'Ponnai_4_7', 'Katpadi_5_7', 'Natrampalli_5_7', 'TCS Mill_5_7', 'ACS Mill_5_7', 'VCS Mill_5_7', 'Ponnai_5_7', 'Katpadi_6_7', 'Natrampalli_6_7', 'TCS Mill_6_7', 'ACS Mill_6_7', 'VCS Mill_6_7', 'Ponnai_6_7', 'Katpadi_7_7', 'Natrampalli_7_7', 'TCS Mill_7_7', 'ACS Mill_7_7', 'VCS Mill_7_7', 'Ponnai_7_7', 'Katpadi_8_7', 'Natrampalli_8_7', 'TCS Mill_8_7', 'ACS Mill_8_7', 'VCS Mill_8_7', 'Ponnai_8_7', 'Katpadi_9_7', 'Natrampalli_9_7', 'TCS Mill_9_7', 'ACS Mill_9_7', 'VCS Mill_9_7', 'Ponnai_9_7', 'Katpadi_10_7', 'Natrampalli_10_7', 'TCS Mill_10_7', 'ACS Mill_10_7', 'VCS Mill_10_7', 'Ponnai_10_7', 'Katpadi_11_7', 'Natrampalli_11_7', 'TCS Mill_11_7', 'ACS Mill_11_7', 'VCS Mill_11_7', 'Ponnai_11_7', 'Katpadi_12_7', 'Natrampalli_12_7', 'TCS Mill_12_7', 'ACS Mill_12_7', 'VCS Mill_12_7', 'Ponnai_12_7', 'Katpadi_13_7', 'Natrampalli_13_7', 'TCS Mill_13_7', 'ACS Mill_13_7', 'VCS Mill_13_7', 'Ponnai_13_7', 'Katpadi_14_7', 'Natrampalli_14_7', 'TCS Mill_14_7', 'ACS Mill_14_7', 'VCS Mill_14_7', 'Ponnai_14_7', 'Katpadi_15_7', 'Natrampalli_15_7', 'TCS Mill_15_7', 'ACS Mill_15_7', 'VCS Mill_15_7', 'Ponnai_15_7', 'Katpadi_16_7', 'Natrampalli_16_7', 'TCS Mill_16_7', 'ACS Mill_16_7', 'VCS Mill_16_7', 'Ponnai_16_7', 'Katpadi_17_7', 'Natrampalli_17_7', 'TCS Mill_17_7', 'ACS Mill_17_7', 'VCS Mill_17_7', 'Ponnai_17_7', 'Katpadi_18_7', 'Natrampalli_18_7', 'TCS Mill_18_7', 'ACS Mill_18_7', 'VCS Mill_18_7', 'Ponnai_18_7', 'Katpadi_19_7', 'Natrampalli_19_7', 'TCS Mill_19_7', 'ACS Mill_19_7', 'VCS Mill_19_7', 'Ponnai_19_7', 'Katpadi_20_7', 'Natrampalli_20_7', 'TCS Mill_20_7', 'ACS Mill_20_7', 'VCS Mill_20_7', 'Ponnai_20_7', 'Katpadi_21_7', 'Natrampalli_21_7', 'TCS Mill_21_7', 'ACS Mill_21_7', 'VCS Mill_21_7', 'Ponnai_21_7', 'Katpadi_22_7', 'Natrampalli_22_7', 'TCS Mill_22_7', 'ACS Mill_22_7', 'VCS Mill_22_7', 'Ponnai_22_7', 'Katpadi_23_7', 'Natrampalli_23_7', 'TCS Mill_23_7', 'ACS Mill_23_7', 'VCS Mill_23_7', 'Ponnai_23_7', 'Katpadi_24_7', 'Natrampalli_24_7', 'TCS Mill_24_7', 'ACS Mill_24_7', 'VCS Mill_24_7', 'Ponnai_24_7', 'Katpadi_25_7', 'Natrampalli_25_7', 'TCS Mill_25_7', 'ACS Mill_25_7', 'VCS Mill_25_7', 'Ponnai_25_7', 'Katpadi_26_7', 'Natrampalli_26_7', 'TCS Mill_26_7', 'ACS Mill_26_7', 'VCS Mill_26_7', 'Ponnai_26_7', 'Katpadi_27_7', 'Natrampalli_27_7', 'TCS Mill_27_7', 'ACS Mill_27_7', 'VCS Mill_27_7', 'Ponnai_27_7', 'Katpadi_28_7', 'Natrampalli_28_7', 'TCS Mill_28_7', 'ACS Mill_28_7', 'VCS Mill_28_7', 'Ponnai_28_7', 'Katpadi_29_7', 'Natrampalli_29_7', 'TCS Mill_29_7', 'ACS Mill_29_7', 'VCS Mill_29_7', 'Ponnai_29_7', 'Katpadi_30_7', 'Natrampalli_30_7', 'TCS Mill_30_7', 'ACS Mill_30_7', 'VCS Mill_30_7', 'Ponnai_30_7', 'Katpadi_31_7', 'Natrampalli_31_7', 'TCS Mill_31_7', 'ACS Mill_31_7', 'VCS Mill_31_7', 'Ponnai_31_7', 'Katpadi_1_8', 'Natrampalli_1_8', 'TCS Mill_1_8', 'ACS Mill_1_8', 'VCS Mill_1_8', 'Ponnai_1_8', 'Katpadi_2_8', 'Natrampalli_2_8', 'TCS Mill_2_8', 'ACS Mill_2_8', 'VCS Mill_2_8', 'Ponnai_2_8', 'Katpadi_3_8', 'Natrampalli_3_8', 'TCS Mill_3_8', 'ACS Mill_3_8', 'VCS Mill_3_8', 'Ponnai_3_8', 'Katpadi_4_8', 'Natrampalli_4_8', 'TCS Mill_4_8', 'ACS Mill_4_8', 'VCS Mill_4_8', 'Ponnai_4_8', 'Katpadi_5_8', 'Natrampalli_5_8', 'TCS Mill_5_8', 'ACS Mill_5_8', 'VCS Mill_5_8', 'Ponnai_5_8', 'Katpadi_6_8', 'Natrampalli_6_8', 'TCS Mill_6_8', 'ACS Mill_6_8', 'VCS Mill_6_8', 'Ponnai_6_8', 'Katpadi_7_8', 'Natrampalli_7_8', 'TCS Mill_7_8', 'ACS Mill_7_8', 'VCS Mill_7_8', 'Ponnai_7_8', 'Katpadi_8_8', 'Natrampalli_8_8', 'TCS Mill_8_8', 'ACS Mill_8_8', 'VCS Mill_8_8', 'Ponnai_8_8', 'Katpadi_9_8', 'Natrampalli_9_8', 'TCS Mill_9_8', 'ACS Mill_9_8', 'VCS Mill_9_8', 'Ponnai_9_8', 'Katpadi_10_8', 'Natrampalli_10_8', 'TCS Mill_10_8', 'ACS Mill_10_8', 'VCS Mill_10_8', 'Ponnai_10_8', 'Katpadi_11_8', 'Natrampalli_11_8', 'TCS Mill_11_8', 'ACS Mill_11_8', 'VCS Mill_11_8', 'Ponnai_11_8', 'Katpadi_12_8', 'Natrampalli_12_8', 'TCS Mill_12_8', 'ACS Mill_12_8', 'VCS Mill_12_8', 'Ponnai_12_8', 'Katpadi_13_8', 'Natrampalli_13_8', 'TCS Mill_13_8', 'ACS Mill_13_8', 'VCS Mill_13_8', 'Ponnai_13_8', 'Katpadi_14_8', 'Natrampalli_14_8', 'TCS Mill_14_8', 'ACS Mill_14_8', 'VCS Mill_14_8', 'Ponnai_14_8', 'Katpadi_15_8', 'Natrampalli_15_8', 'TCS Mill_15_8', 'ACS Mill_15_8', 'VCS Mill_15_8', 'Ponnai_15_8', 'Katpadi_16_8', 'Natrampalli_16_8', 'TCS Mill_16_8', 'ACS Mill_16_8', 'VCS Mill_16_8', 'Ponnai_16_8', 'Katpadi_17_8', 'Natrampalli_17_8', 'TCS Mill_17_8', 'ACS Mill_17_8', 'VCS Mill_17_8', 'Ponnai_17_8', 'Katpadi_18_8', 'Natrampalli_18_8', 'TCS Mill_18_8', 'ACS Mill_18_8', 'VCS Mill_18_8', 'Ponnai_18_8', 'Katpadi_19_8', 'Natrampalli_19_8', 'TCS Mill_19_8', 'ACS Mill_19_8', 'VCS Mill_19_8', 'Ponnai_19_8', 'Katpadi_20_8', 'Natrampalli_20_8', 'TCS Mill_20_8', 'ACS Mill_20_8', 'VCS Mill_20_8', 'Ponnai_20_8', 'Katpadi_21_8', 'Natrampalli_21_8', 'TCS Mill_21_8', 'ACS Mill_21_8', 'VCS Mill_21_8', 'Ponnai_21_8', 'Katpadi_22_8', 'Natrampalli_22_8', 'TCS Mill_22_8', 'ACS Mill_22_8', 'VCS Mill_22_8', 'Ponnai_22_8', 'Katpadi_23_8', 'Natrampalli_23_8', 'TCS Mill_23_8', 'ACS Mill_23_8', 'VCS Mill_23_8', 'Ponnai_23_8', 'Katpadi_24_8', 'Natrampalli_24_8', 'TCS Mill_24_8', 'ACS Mill_24_8', 'VCS Mill_24_8', 'Ponnai_24_8', 'Katpadi_25_8', 'Natrampalli_25_8', 'TCS Mill_25_8', 'ACS Mill_25_8', 'VCS Mill_25_8', 'Ponnai_25_8', 'Katpadi_26_8', 'Natrampalli_26_8', 'TCS Mill_26_8', 'ACS Mill_26_8', 'VCS Mill_26_8', 'Ponnai_26_8', 'Katpadi_27_8', 'Natrampalli_27_8', 'TCS Mill_27_8', 'ACS Mill_27_8', 'VCS Mill_27_8', 'Ponnai_27_8', 'Katpadi_28_8', 'Natrampalli_28_8', 'TCS Mill_28_8', 'ACS Mill_28_8', 'VCS Mill_28_8', 'Ponnai_28_8', 'Katpadi_29_8', 'Natrampalli_29_8', 'TCS Mill_29_8', 'ACS Mill_29_8', 'VCS Mill_29_8', 'Ponnai_29_8', 'Katpadi_30_8', 'Natrampalli_30_8', 'TCS Mill_30_8', 'ACS Mill_30_8', 'VCS Mill_30_8', 'Ponnai_30_8', 'Katpadi_31_8', 'Natrampalli_31_8', 'TCS Mill_31_8', 'ACS Mill_31_8', 'VCS Mill_31_8', 'Ponnai_31_8', 'Katpadi_1_9', 'Natrampalli_1_9', 'TCS Mill_1_9', 'ACS Mill_1_9', 'VCS Mill_1_9', 'Ponnai_1_9', 'Katpadi_2_9', 'Natrampalli_2_9', 'TCS Mill_2_9', 'ACS Mill_2_9', 'VCS Mill_2_9', 'Ponnai_2_9', 'Katpadi_3_9', 'Natrampalli_3_9', 'TCS Mill_3_9', 'ACS Mill_3_9', 'VCS Mill_3_9', 'Ponnai_3_9', 'Katpadi_4_9', 'Natrampalli_4_9', 'TCS Mill_4_9', 'ACS Mill_4_9', 'VCS Mill_4_9', 'Ponnai_4_9', 'Katpadi_5_9', 'Natrampalli_5_9', 'TCS Mill_5_9', 'ACS Mill_5_9', 'VCS Mill_5_9', 'Ponnai_5_9', 'Katpadi_6_9', 'Natrampalli_6_9', 'TCS Mill_6_9', 'ACS Mill_6_9', 'VCS Mill_6_9', 'Ponnai_6_9', 'Katpadi_7_9', 'Natrampalli_7_9', 'TCS Mill_7_9', 'ACS Mill_7_9', 'VCS Mill_7_9', 'Ponnai_7_9', 'Katpadi_8_9', 'Natrampalli_8_9', 'TCS Mill_8_9', 'ACS Mill_8_9', 'VCS Mill_8_9', 'Ponnai_8_9', 'Katpadi_9_9', 'Natrampalli_9_9', 'TCS Mill_9_9', 'ACS Mill_9_9', 'VCS Mill_9_9', 'Ponnai_9_9', 'Katpadi_10_9', 'Natrampalli_10_9', 'TCS Mill_10_9', 'ACS Mill_10_9', 'VCS Mill_10_9', 'Ponnai_10_9', 'Katpadi_11_9', 'Natrampalli_11_9', 'TCS Mill_11_9', 'ACS Mill_11_9', 'VCS Mill_11_9', 'Ponnai_11_9', 'Katpadi_12_9', 'Natrampalli_12_9', 'TCS Mill_12_9', 'ACS Mill_12_9', 'VCS Mill_12_9', 'Ponnai_12_9', 'Katpadi_13_9', 'Natrampalli_13_9', 'TCS Mill_13_9', 'ACS Mill_13_9', 'VCS Mill_13_9', 'Ponnai_13_9', 'Katpadi_14_9', 'Natrampalli_14_9', 'TCS Mill_14_9', 'ACS Mill_14_9', 'VCS Mill_14_9', 'Ponnai_14_9', 'Katpadi_15_9', 'Natrampalli_15_9', 'TCS Mill_15_9', 'ACS Mill_15_9', 'VCS Mill_15_9', 'Ponnai_15_9', 'Katpadi_16_9', 'Natrampalli_16_9', 'TCS Mill_16_9', 'ACS Mill_16_9', 'VCS Mill_16_9', 'Ponnai_16_9', 'Katpadi_17_9', 'Natrampalli_17_9', 'TCS Mill_17_9', 'ACS Mill_17_9', 'VCS Mill_17_9', 'Ponnai_17_9', 'Katpadi_18_9', 'Natrampalli_18_9', 'TCS Mill_18_9', 'ACS Mill_18_9', 'VCS Mill_18_9', 'Ponnai_18_9', 'Katpadi_19_9', 'Natrampalli_19_9', 'TCS Mill_19_9', 'ACS Mill_19_9', 'VCS Mill_19_9', 'Ponnai_19_9', 'Katpadi_20_9', 'Natrampalli_20_9', 'TCS Mill_20_9', 'ACS Mill_20_9', 'VCS Mill_20_9', 'Ponnai_20_9', 'Katpadi_21_9', 'Natrampalli_21_9', 'TCS Mill_21_9', 'ACS Mill_21_9', 'VCS Mill_21_9', 'Ponnai_21_9', 'Katpadi_22_9', 'Natrampalli_22_9', 'TCS Mill_22_9', 'ACS Mill_22_9', 'VCS Mill_22_9', 'Ponnai_22_9', 'Katpadi_23_9', 'Natrampalli_23_9', 'TCS Mill_23_9', 'ACS Mill_23_9', 'VCS Mill_23_9', 'Ponnai_23_9', 'Katpadi_24_9', 'Natrampalli_24_9', 'TCS Mill_24_9', 'ACS Mill_24_9', 'VCS Mill_24_9', 'Ponnai_24_9', 'Katpadi_25_9', 'Natrampalli_25_9', 'TCS Mill_25_9', 'ACS Mill_25_9', 'VCS Mill_25_9', 'Ponnai_25_9', 'Katpadi_26_9', 'Natrampalli_26_9', 'TCS Mill_26_9', 'ACS Mill_26_9', 'VCS Mill_26_9', 'Ponnai_26_9', 'Katpadi_27_9', 'Natrampalli_27_9', 'TCS Mill_27_9', 'ACS Mill_27_9', 'VCS Mill_27_9', 'Ponnai_27_9', 'Katpadi_28_9', 'Natrampalli_28_9', 'TCS Mill_28_9', 'ACS Mill_28_9', 'VCS Mill_28_9', 'Ponnai_28_9', 'Katpadi_29_9', 'Natrampalli_29_9', 'TCS Mill_29_9', 'ACS Mill_29_9', 'VCS Mill_29_9', 'Ponnai_29_9', 'Katpadi_30_9', 'Natrampalli_30_9', 'TCS Mill_30_9', 'ACS Mill_30_9', 'VCS Mill_30_9', 'Ponnai_30_9'])"
      ]
     },
     "metadata": {},
     "execution_count": 3
    }
   ],
   "source": [
    "toprint.keys()"
   ]
  },
  {
   "cell_type": "code",
   "execution_count": 47,
   "metadata": {},
   "outputs": [
    {
     "output_type": "execute_result",
     "data": {
      "text/plain": [
       "array([0., 0., 0., 0., 0., 0., 0., 0., 0., 0.])"
      ]
     },
     "metadata": {},
     "execution_count": 47
    }
   ],
   "source": [
    "np.zeros(10)"
   ]
  },
  {
   "cell_type": "code",
   "execution_count": 45,
   "metadata": {},
   "outputs": [
    {
     "output_type": "execute_result",
     "data": {
      "text/plain": [
       "Index(['month', 'day', 'year', 'sparse1', 'sparse2', 'sparse3', 'sparse4',\n",
       "       'sparse5', 'sparse6', 'sparse7', 'sparse8', 'District_ACS Mill',\n",
       "       'District_Alangayam', 'District_Ambur', 'District_Arakkonam',\n",
       "       'District_Arcot', 'District_Gudiyatham', 'District_Katpadi',\n",
       "       'District_Kaveripakkam', 'District_Melalathur', 'District_Natrampalli',\n",
       "       'District_Ponnai', 'District_Sholingur', 'District_TCS Mill',\n",
       "       'District_Tirupattur', 'District_VCS Mill', 'District_Vaniyambadi',\n",
       "       'District_Vellore', 'District_Wallajah'],\n",
       "      dtype='object')"
      ]
     },
     "metadata": {},
     "execution_count": 45
    }
   ],
   "source": [
    "X_test.columns"
   ]
  },
  {
   "cell_type": "code",
   "execution_count": 1,
   "metadata": {},
   "outputs": [],
   "source": [
    "import pandas as pd"
   ]
  },
  {
   "cell_type": "code",
   "execution_count": 2,
   "metadata": {},
   "outputs": [],
   "source": [
    "df=pd.read_csv(\"converted.csv\")"
   ]
  },
  {
   "cell_type": "code",
   "execution_count": 3,
   "metadata": {},
   "outputs": [
    {
     "output_type": "execute_result",
     "data": {
      "text/plain": [
       "      District  year      rain      month        day\n",
       "0     ACS Mill  2018  1.632609  11.000000  15.836957\n",
       "1     ACS Mill  2019  2.486575   6.526027  15.720548\n",
       "2    Alangayam  2010  2.781644   6.526027  15.720548\n",
       "3    Alangayam  2011  2.627123   6.526027  15.720548\n",
       "4    Alangayam  2012  2.923361   6.513661  15.756831\n",
       "..         ...   ...       ...        ...        ...\n",
       "127   Wallajah  2015  2.616986   6.526027  15.720548\n",
       "128   Wallajah  2016  1.008743   6.513661  15.756831\n",
       "129   Wallajah  2017  2.004384   6.526027  15.720548\n",
       "130   Wallajah  2018  1.155890   6.526027  15.720548\n",
       "131   Wallajah  2019  1.855342   6.526027  15.720548\n",
       "\n",
       "[132 rows x 5 columns]"
      ],
      "text/html": "<div>\n<style scoped>\n    .dataframe tbody tr th:only-of-type {\n        vertical-align: middle;\n    }\n\n    .dataframe tbody tr th {\n        vertical-align: top;\n    }\n\n    .dataframe thead th {\n        text-align: right;\n    }\n</style>\n<table border=\"1\" class=\"dataframe\">\n  <thead>\n    <tr style=\"text-align: right;\">\n      <th></th>\n      <th>District</th>\n      <th>year</th>\n      <th>rain</th>\n      <th>month</th>\n      <th>day</th>\n    </tr>\n  </thead>\n  <tbody>\n    <tr>\n      <th>0</th>\n      <td>ACS Mill</td>\n      <td>2018</td>\n      <td>1.632609</td>\n      <td>11.000000</td>\n      <td>15.836957</td>\n    </tr>\n    <tr>\n      <th>1</th>\n      <td>ACS Mill</td>\n      <td>2019</td>\n      <td>2.486575</td>\n      <td>6.526027</td>\n      <td>15.720548</td>\n    </tr>\n    <tr>\n      <th>2</th>\n      <td>Alangayam</td>\n      <td>2010</td>\n      <td>2.781644</td>\n      <td>6.526027</td>\n      <td>15.720548</td>\n    </tr>\n    <tr>\n      <th>3</th>\n      <td>Alangayam</td>\n      <td>2011</td>\n      <td>2.627123</td>\n      <td>6.526027</td>\n      <td>15.720548</td>\n    </tr>\n    <tr>\n      <th>4</th>\n      <td>Alangayam</td>\n      <td>2012</td>\n      <td>2.923361</td>\n      <td>6.513661</td>\n      <td>15.756831</td>\n    </tr>\n    <tr>\n      <th>...</th>\n      <td>...</td>\n      <td>...</td>\n      <td>...</td>\n      <td>...</td>\n      <td>...</td>\n    </tr>\n    <tr>\n      <th>127</th>\n      <td>Wallajah</td>\n      <td>2015</td>\n      <td>2.616986</td>\n      <td>6.526027</td>\n      <td>15.720548</td>\n    </tr>\n    <tr>\n      <th>128</th>\n      <td>Wallajah</td>\n      <td>2016</td>\n      <td>1.008743</td>\n      <td>6.513661</td>\n      <td>15.756831</td>\n    </tr>\n    <tr>\n      <th>129</th>\n      <td>Wallajah</td>\n      <td>2017</td>\n      <td>2.004384</td>\n      <td>6.526027</td>\n      <td>15.720548</td>\n    </tr>\n    <tr>\n      <th>130</th>\n      <td>Wallajah</td>\n      <td>2018</td>\n      <td>1.155890</td>\n      <td>6.526027</td>\n      <td>15.720548</td>\n    </tr>\n    <tr>\n      <th>131</th>\n      <td>Wallajah</td>\n      <td>2019</td>\n      <td>1.855342</td>\n      <td>6.526027</td>\n      <td>15.720548</td>\n    </tr>\n  </tbody>\n</table>\n<p>132 rows × 5 columns</p>\n</div>"
     },
     "metadata": {},
     "execution_count": 3
    }
   ],
   "source": [
    "dfg=df.groupby([\"District\",\"year\"]).mean().reset_index()\n",
    "dfg"
   ]
  },
  {
   "cell_type": "code",
   "execution_count": 38,
   "metadata": {},
   "outputs": [],
   "source": [
    "df=df[(df[\"year\"]==2014)&(df[\"District\"]=='Arcot')]"
   ]
  },
  {
   "cell_type": "code",
   "execution_count": 40,
   "metadata": {},
   "outputs": [
    {
     "output_type": "execute_result",
     "data": {
      "text/plain": [
       "   District  year  month      rain   day\n",
       "0     Arcot  2014      1  0.000000  16.0\n",
       "1     Arcot  2014      2  0.000000  14.5\n",
       "2     Arcot  2014      3  0.000000  16.0\n",
       "3     Arcot  2014      4  0.000000  15.5\n",
       "4     Arcot  2014      5  2.358065  16.0\n",
       "5     Arcot  2014      6  0.000000  15.5\n",
       "6     Arcot  2014      7  2.048387  16.0\n",
       "7     Arcot  2014      8  3.774194  16.0\n",
       "8     Arcot  2014      9  4.960000  15.5\n",
       "9     Arcot  2014     10  4.119355  16.0\n",
       "10    Arcot  2014     11  2.573333  15.5\n",
       "11    Arcot  2014     12  0.922581  16.0"
      ],
      "text/html": "<div>\n<style scoped>\n    .dataframe tbody tr th:only-of-type {\n        vertical-align: middle;\n    }\n\n    .dataframe tbody tr th {\n        vertical-align: top;\n    }\n\n    .dataframe thead th {\n        text-align: right;\n    }\n</style>\n<table border=\"1\" class=\"dataframe\">\n  <thead>\n    <tr style=\"text-align: right;\">\n      <th></th>\n      <th>District</th>\n      <th>year</th>\n      <th>month</th>\n      <th>rain</th>\n      <th>day</th>\n    </tr>\n  </thead>\n  <tbody>\n    <tr>\n      <th>0</th>\n      <td>Arcot</td>\n      <td>2014</td>\n      <td>1</td>\n      <td>0.000000</td>\n      <td>16.0</td>\n    </tr>\n    <tr>\n      <th>1</th>\n      <td>Arcot</td>\n      <td>2014</td>\n      <td>2</td>\n      <td>0.000000</td>\n      <td>14.5</td>\n    </tr>\n    <tr>\n      <th>2</th>\n      <td>Arcot</td>\n      <td>2014</td>\n      <td>3</td>\n      <td>0.000000</td>\n      <td>16.0</td>\n    </tr>\n    <tr>\n      <th>3</th>\n      <td>Arcot</td>\n      <td>2014</td>\n      <td>4</td>\n      <td>0.000000</td>\n      <td>15.5</td>\n    </tr>\n    <tr>\n      <th>4</th>\n      <td>Arcot</td>\n      <td>2014</td>\n      <td>5</td>\n      <td>2.358065</td>\n      <td>16.0</td>\n    </tr>\n    <tr>\n      <th>5</th>\n      <td>Arcot</td>\n      <td>2014</td>\n      <td>6</td>\n      <td>0.000000</td>\n      <td>15.5</td>\n    </tr>\n    <tr>\n      <th>6</th>\n      <td>Arcot</td>\n      <td>2014</td>\n      <td>7</td>\n      <td>2.048387</td>\n      <td>16.0</td>\n    </tr>\n    <tr>\n      <th>7</th>\n      <td>Arcot</td>\n      <td>2014</td>\n      <td>8</td>\n      <td>3.774194</td>\n      <td>16.0</td>\n    </tr>\n    <tr>\n      <th>8</th>\n      <td>Arcot</td>\n      <td>2014</td>\n      <td>9</td>\n      <td>4.960000</td>\n      <td>15.5</td>\n    </tr>\n    <tr>\n      <th>9</th>\n      <td>Arcot</td>\n      <td>2014</td>\n      <td>10</td>\n      <td>4.119355</td>\n      <td>16.0</td>\n    </tr>\n    <tr>\n      <th>10</th>\n      <td>Arcot</td>\n      <td>2014</td>\n      <td>11</td>\n      <td>2.573333</td>\n      <td>15.5</td>\n    </tr>\n    <tr>\n      <th>11</th>\n      <td>Arcot</td>\n      <td>2014</td>\n      <td>12</td>\n      <td>0.922581</td>\n      <td>16.0</td>\n    </tr>\n  </tbody>\n</table>\n</div>"
     },
     "metadata": {},
     "execution_count": 40
    }
   ],
   "source": [
    "df.groupby([\"District\",\"year\",\"month\"]).mean().reset_index()"
   ]
  },
  {
   "cell_type": "code",
   "execution_count": null,
   "metadata": {},
   "outputs": [],
   "source": []
  }
 ]
}